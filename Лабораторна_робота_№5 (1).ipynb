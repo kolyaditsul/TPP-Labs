{
  "nbformat": 4,
  "nbformat_minor": 0,
  "metadata": {
    "colab": {
      "provenance": []
    },
    "kernelspec": {
      "name": "python3",
      "display_name": "Python 3"
    },
    "language_info": {
      "name": "python"
    }
  },
  "cells": [
    {
      "cell_type": "markdown",
      "source": [
        "1.Провести жорстке та м'яке голосування.  "
      ],
      "metadata": {
        "id": "GiYbYj71kSe-"
      }
    },
    {
      "cell_type": "code",
      "source": [
        "import pandas as pd\n",
        "from sklearn.model_selection import train_test_split\n",
        "from sklearn.linear_model import LogisticRegression\n",
        "from sklearn.tree import DecisionTreeClassifier\n",
        "from sklearn.neighbors import KNeighborsClassifier\n",
        "from sklearn.ensemble import VotingClassifier\n",
        "from sklearn.metrics import accuracy_score, classification_report\n",
        "\n",
        "# Шлях до файлу з даними\n",
        "file_path = \"hayes-roth.data\"\n",
        "\n",
        "# Задайте імена колонок\n",
        "column_names = [\"name\", \"hobby\", \"age\", \"educational level\", \"marital status\", \"class\"]\n",
        "\n",
        "# Завантаження даних\n",
        "data = pd.read_csv(file_path, names=column_names)\n",
        "\n",
        "# Розділіть дані на X (характеристики) та Y (цільова змінна/клас)\n",
        "X = data.drop(columns=['class'])\n",
        "y = data['class']\n",
        "\n",
        "# Розділіть дані на навчальну та тестову вибірки\n",
        "X_train, X_test, y_train, y_test = train_test_split(X, y, test_size=0.3, random_state=42)\n",
        "\n",
        "# Ініціалізуємо базові класифікатори\n",
        "log_reg = LogisticRegression(max_iter=1000)\n",
        "dec_tree = DecisionTreeClassifier()\n",
        "knn = KNeighborsClassifier()\n",
        "\n",
        "# Побудуємо жорстке голосування\n",
        "hard_voting_clf = VotingClassifier(estimators=[('lr', log_reg), ('dt', dec_tree), ('knn', knn)], voting='hard')\n",
        "hard_voting_clf.fit(X_train, y_train)\n",
        "\n",
        "# Побудуємо м'яке голосування\n",
        "soft_voting_clf = VotingClassifier(estimators=[('lr', log_reg), ('dt', dec_tree), ('knn', knn)], voting='soft')\n",
        "soft_voting_clf.fit(X_train, y_train)\n",
        "\n",
        "# Оцінимо результати\n",
        "hard_voting_pred = hard_voting_clf.predict(X_test)\n",
        "soft_voting_pred = soft_voting_clf.predict(X_test)\n",
        "\n",
        "print(\"Жорстке голосування:\")\n",
        "print(\"Точність:\", accuracy_score(y_test, hard_voting_pred))\n",
        "print(\"Звіт про класифікацію:\")\n",
        "print(classification_report(y_test, hard_voting_pred))\n",
        "\n",
        "print(\"\\nМ'яке голосування:\")\n",
        "print(\"Точність:\", accuracy_score(y_test, soft_voting_pred))\n",
        "print(\"Звіт про класифікацію:\")\n",
        "print(classification_report(y_test, soft_voting_pred))\n",
        "\n"
      ],
      "metadata": {
        "colab": {
          "base_uri": "https://localhost:8080/"
        },
        "id": "IgDtifzKRfus",
        "outputId": "d50733fa-4199-4334-f07f-b4a4d221232d"
      },
      "execution_count": 23,
      "outputs": [
        {
          "output_type": "stream",
          "name": "stdout",
          "text": [
            "Жорстке голосування:\n",
            "Точність: 0.625\n",
            "Звіт про класифікацію:\n",
            "              precision    recall  f1-score   support\n",
            "\n",
            "           1       0.65      0.58      0.61        19\n",
            "           2       0.40      0.60      0.48        10\n",
            "           3       1.00      0.73      0.84        11\n",
            "\n",
            "    accuracy                           0.62        40\n",
            "   macro avg       0.68      0.64      0.64        40\n",
            "weighted avg       0.68      0.62      0.64        40\n",
            "\n",
            "\n",
            "М'яке голосування:\n",
            "Точність: 0.775\n",
            "Звіт про класифікацію:\n",
            "              precision    recall  f1-score   support\n",
            "\n",
            "           1       0.86      0.63      0.73        19\n",
            "           2       0.53      0.80      0.64        10\n",
            "           3       1.00      1.00      1.00        11\n",
            "\n",
            "    accuracy                           0.78        40\n",
            "   macro avg       0.80      0.81      0.79        40\n",
            "weighted avg       0.82      0.78      0.78        40\n",
            "\n"
          ]
        }
      ]
    },
    {
      "cell_type": "markdown",
      "source": [
        "2.Провести стекінкг, блендінг.  "
      ],
      "metadata": {
        "id": "j-5eDH0kkNdC"
      }
    },
    {
      "cell_type": "code",
      "source": [
        "from sklearn.model_selection import cross_val_predict\n",
        "from sklearn.ensemble import StackingClassifier\n",
        "from sklearn.ensemble import RandomForestClassifier\n",
        "from sklearn.ensemble import GradientBoostingClassifier\n",
        "from sklearn.metrics import accuracy_score, classification_report\n",
        "\n",
        "# Ініціалізуємо базові класифікатори\n",
        "base_classifiers = [\n",
        "    ('log_reg', LogisticRegression(max_iter=1000)),\n",
        "    ('dec_tree', DecisionTreeClassifier()),\n",
        "    ('knn', KNeighborsClassifier())\n",
        "]\n",
        "\n",
        "# Побудуємо та навчимо стекінг класифікатор\n",
        "stacking_clf = StackingClassifier(estimators=base_classifiers, final_estimator=RandomForestClassifier())\n",
        "stacking_clf.fit(X_train, y_train)\n",
        "\n",
        "# Побудуємо та навчимо блендінг класифікатор\n",
        "blend_clf = StackingClassifier(estimators=base_classifiers, final_estimator=GradientBoostingClassifier())\n",
        "blend_clf.fit(X_train, y_train)\n",
        "\n",
        "# Оцінимо результати для стекінгу\n",
        "stacking_pred = stacking_clf.predict(X_test)\n",
        "print(\"Стекінг:\")\n",
        "print(\"Точність:\", accuracy_score(y_test, stacking_pred))\n",
        "print(\"Звіт про класифікацію:\")\n",
        "print(classification_report(y_test, stacking_pred))\n",
        "\n",
        "# Оцінимо результати для блендінгу\n",
        "blend_pred = blend_clf.predict(X_test)\n",
        "print(\"\\nБлендінг:\")\n",
        "print(\"Точність:\", accuracy_score(y_test, blend_pred))\n",
        "print(\"Звіт про класифікацію:\")\n",
        "print(classification_report(y_test, blend_pred))\n"
      ],
      "metadata": {
        "colab": {
          "base_uri": "https://localhost:8080/"
        },
        "id": "Z-KM2rdASbyY",
        "outputId": "1eec3c5e-4176-4ec6-e65b-e689f5b0882e"
      },
      "execution_count": 24,
      "outputs": [
        {
          "output_type": "stream",
          "name": "stdout",
          "text": [
            "Стекінг:\n",
            "Точність: 0.85\n",
            "Звіт про класифікацію:\n",
            "              precision    recall  f1-score   support\n",
            "\n",
            "           1       1.00      0.68      0.81        19\n",
            "           2       0.62      1.00      0.77        10\n",
            "           3       1.00      1.00      1.00        11\n",
            "\n",
            "    accuracy                           0.85        40\n",
            "   macro avg       0.88      0.89      0.86        40\n",
            "weighted avg       0.91      0.85      0.85        40\n",
            "\n",
            "\n",
            "Блендінг:\n",
            "Точність: 0.85\n",
            "Звіт про класифікацію:\n",
            "              precision    recall  f1-score   support\n",
            "\n",
            "           1       1.00      0.68      0.81        19\n",
            "           2       0.62      1.00      0.77        10\n",
            "           3       1.00      1.00      1.00        11\n",
            "\n",
            "    accuracy                           0.85        40\n",
            "   macro avg       0.88      0.89      0.86        40\n",
            "weighted avg       0.91      0.85      0.85        40\n",
            "\n"
          ]
        }
      ]
    },
    {
      "cell_type": "markdown",
      "source": [
        "3.Застосувати бекінг, побудувавши випадковий ліс"
      ],
      "metadata": {
        "id": "R_jpxf4Cj50u"
      }
    },
    {
      "cell_type": "code",
      "source": [
        "from sklearn.ensemble import RandomForestClassifier\n",
        "from sklearn.ensemble import VotingClassifier\n",
        "from sklearn.metrics import accuracy_score, classification_report\n",
        "\n",
        "# Ініціалізуємо базові класифікатори\n",
        "log_reg = LogisticRegression(max_iter=1000)\n",
        "dec_tree = DecisionTreeClassifier()\n",
        "knn = KNeighborsClassifier()\n",
        "\n",
        "# Побудуємо бекінг з використанням випадкового лісу\n",
        "rf = RandomForestClassifier()\n",
        "backing_clf = VotingClassifier(estimators=[('lr', log_reg), ('dt', dec_tree), ('knn', knn), ('rf', rf)], voting='hard')\n",
        "backing_clf.fit(X_train, y_train)\n",
        "\n",
        "# Оцінимо результати\n",
        "backing_pred = backing_clf.predict(X_test)\n",
        "\n",
        "print(\"Бекінг з використанням випадкового лісу:\")\n",
        "print(\"Точність:\", accuracy_score(y_test, backing_pred))\n",
        "print(\"Звіт про класифікацію:\")\n",
        "print(classification_report(y_test, backing_pred))"
      ],
      "metadata": {
        "colab": {
          "base_uri": "https://localhost:8080/"
        },
        "id": "IybmKogzStHu",
        "outputId": "68b63a87-353e-45d5-b865-4794fb1ece5e"
      },
      "execution_count": 35,
      "outputs": [
        {
          "output_type": "stream",
          "name": "stdout",
          "text": [
            "Бекінг з використанням випадкового лісу:\n",
            "Точність: 0.7\n",
            "Звіт про класифікацію:\n",
            "              precision    recall  f1-score   support\n",
            "\n",
            "           1       0.79      0.58      0.67        19\n",
            "           2       0.44      0.70      0.54        10\n",
            "           3       1.00      0.91      0.95        11\n",
            "\n",
            "    accuracy                           0.70        40\n",
            "   macro avg       0.74      0.73      0.72        40\n",
            "weighted avg       0.76      0.70      0.71        40\n",
            "\n"
          ]
        }
      ]
    },
    {
      "cell_type": "markdown",
      "source": [
        "4.Застосувати бустінг."
      ],
      "metadata": {
        "id": "iW60bG9IkGwX"
      }
    },
    {
      "cell_type": "code",
      "source": [
        "from sklearn.ensemble import GradientBoostingClassifier\n",
        "from sklearn.metrics import accuracy_score, classification_report\n",
        "\n",
        "# Ініціалізуємо базові класифікатори\n",
        "log_reg = LogisticRegression(max_iter=1000)\n",
        "dec_tree = DecisionTreeClassifier()\n",
        "knn = KNeighborsClassifier()\n",
        "\n",
        "# Побудуємо бустінг з використанням GradientBoostingClassifier\n",
        "boosting_clf = GradientBoostingClassifier()\n",
        "boosting_clf.fit(X_train, y_train)\n",
        "\n",
        "# Оцінимо результати\n",
        "boosting_pred = boosting_clf.predict(X_test)\n",
        "\n",
        "print(\"Бустинг:\")\n",
        "print(\"Точність:\", accuracy_score(y_test, boosting_pred))\n",
        "print(\"Звіт про класифікацію:\")\n",
        "print(classification_report(y_test, boosting_pred))\n"
      ],
      "metadata": {
        "colab": {
          "base_uri": "https://localhost:8080/"
        },
        "id": "TOatzSeiTHs0",
        "outputId": "4ef2cae0-5aee-4230-f5fe-336f630f32ca"
      },
      "execution_count": 37,
      "outputs": [
        {
          "output_type": "stream",
          "name": "stdout",
          "text": [
            "Бустинг:\n",
            "Точність: 0.75\n",
            "Звіт про класифікацію:\n",
            "              precision    recall  f1-score   support\n",
            "\n",
            "           1       0.85      0.58      0.69        19\n",
            "           2       0.50      0.80      0.62        10\n",
            "           3       1.00      1.00      1.00        11\n",
            "\n",
            "    accuracy                           0.75        40\n",
            "   macro avg       0.78      0.79      0.77        40\n",
            "weighted avg       0.80      0.75      0.76        40\n",
            "\n"
          ]
        }
      ]
    },
    {
      "cell_type": "markdown",
      "source": [
        "5.Визначити найкращий ансамбль серед всіх побудованих"
      ],
      "metadata": {
        "id": "eCene-Cnjk1F"
      }
    },
    {
      "cell_type": "code",
      "source": [
        "# Створення списку прогнозів для усіх ансамблів\n",
        "predictions = {\n",
        "    \"Жорстке голосування\": hard_voting_pred,\n",
        "    \"М'яке голосування\": soft_voting_pred,\n",
        "    \"Стекінг\": stacking_pred,\n",
        "    \"Блендінг\": blend_pred,\n",
        "    \"Випадковий ліс\": backing_pred,\n",
        "    \"Градієнтний бустінг\": boosting_pred\n",
        "}\n",
        "\n",
        "# Обчислення точності для кожного ансамблю\n",
        "accuracies = {}\n",
        "for name, preds in predictions.items():\n",
        "    accuracies[name] = accuracy_score(y_test, preds)\n",
        "\n",
        "# Визначення найкращого ансамблю за точністю\n",
        "best_ensemble = max(accuracies, key=accuracies.get)\n",
        "\n",
        "# Виведення результатів\n",
        "print(\"Результати ефективності ансамблів:\")\n",
        "for name, accuracy in accuracies.items():\n",
        "    print(f\"{name}: Точність = {accuracy}\")\n",
        "\n",
        "print(f\"\\nНайкращий ансамбль: {best_ensemble} з точністю {accuracies[best_ensemble]}\")\n"
      ],
      "metadata": {
        "colab": {
          "base_uri": "https://localhost:8080/"
        },
        "id": "zGUrTHGETLy1",
        "outputId": "956a30af-fbb1-44f0-c0e6-9314d0fb8a34"
      },
      "execution_count": 38,
      "outputs": [
        {
          "output_type": "stream",
          "name": "stdout",
          "text": [
            "Результати ефективності ансамблів:\n",
            "Жорстке голосування: Точність = 0.625\n",
            "М'яке голосування: Точність = 0.775\n",
            "Стекінг: Точність = 0.85\n",
            "Блендінг: Точність = 0.85\n",
            "Випадковий ліс: Точність = 0.7\n",
            "Градієнтний бустінг: Точність = 0.75\n",
            "\n",
            "Найкращий ансамбль: Стекінг з точністю 0.85\n"
          ]
        }
      ]
    },
    {
      "cell_type": "markdown",
      "source": [
        "6.Визначити найважливіші ознаки в своєму датасеті"
      ],
      "metadata": {
        "id": "yfbU1mOLje4r"
      }
    },
    {
      "cell_type": "code",
      "source": [
        "import pandas as pd\n",
        "from sklearn.ensemble import RandomForestClassifier\n",
        "\n",
        "# Завантаження датасету \"hayes-roth.data\"\n",
        "file_path = \"hayes-roth.data\"\n",
        "column_names = [\"name\", \"hobby\", \"age\", \"educational level\", \"marital status\", \"class\"]\n",
        "hayes_roth_data = pd.read_csv(file_path, names=column_names)\n",
        "\n",
        "# Розділення на ознаки (X) та цільову змінну (y)\n",
        "X = hayes_roth_data.drop('class', axis=1)\n",
        "y = hayes_roth_data['class']\n",
        "\n",
        "# Побудова моделі RandomForestClassifier\n",
        "rf_classifier = RandomForestClassifier()\n",
        "rf_classifier.fit(X, y)\n",
        "\n",
        "# Отримання важливості ознак\n",
        "importances = rf_classifier.feature_importances_\n",
        "\n",
        "# Створення словника з назвами ознак та їх важливостями\n",
        "feature_importance_dict = dict(zip(X.columns, importances))\n",
        "\n",
        "# Виведення найважливіших ознак\n",
        "print(\"Найважливіші ознаки:\")\n",
        "for feature, importance in sorted(feature_importance_dict.items(), key=lambda x: x[1], reverse=True):\n",
        "    print(feature, \":\", importance)\n"
      ],
      "metadata": {
        "colab": {
          "base_uri": "https://localhost:8080/"
        },
        "id": "K5cB6idZTYJt",
        "outputId": "02cbe64e-2003-4306-c245-83a1ee3d98a5"
      },
      "execution_count": 32,
      "outputs": [
        {
          "output_type": "stream",
          "name": "stdout",
          "text": [
            "Найважливіші ознаки:\n",
            "name : 0.26516811207471974\n",
            "educational level : 0.24259952851406524\n",
            "marital status : 0.22542945782531423\n",
            "age : 0.2240350290889576\n",
            "hobby : 0.04276787249694316\n"
          ]
        }
      ]
    }
  ]
}