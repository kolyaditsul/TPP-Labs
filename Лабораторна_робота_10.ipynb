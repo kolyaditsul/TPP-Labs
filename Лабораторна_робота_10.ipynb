{
  "nbformat": 4,
  "nbformat_minor": 0,
  "metadata": {
    "colab": {
      "provenance": []
    },
    "kernelspec": {
      "name": "python3",
      "display_name": "Python 3"
    },
    "language_info": {
      "name": "python"
    }
  },
  "cells": [
    {
      "cell_type": "markdown",
      "source": [
        "\n",
        "Лабораторна робота_10_1_(Intro_to_Keras)"
      ],
      "metadata": {
        "id": "hQo780rMRzl_"
      }
    },
    {
      "cell_type": "markdown",
      "source": [
        "Завантаження та підготовка даних"
      ],
      "metadata": {
        "id": "vrGQ52_mDtZn"
      }
    },
    {
      "cell_type": "code",
      "source": [
        "import pandas as pd\n",
        "from sklearn.model_selection import train_test_split\n",
        "from sklearn.preprocessing import StandardScaler, LabelEncoder\n",
        "import numpy as np\n",
        "\n",
        "data = pd.read_csv('onlinefoods.csv')\n",
        "\n",
        "# Перевірка перших декількох рядків\n",
        "print(data.head())\n",
        "\n",
        "# Інформація про структуру даних\n",
        "print(data.info())\n",
        "\n",
        "# Кодування категоріальних змінних\n",
        "for column in ['Gender', 'Marital Status', 'Occupation', 'Monthly Income', 'Educational Qualifications', 'Feedback']:\n",
        "    le = LabelEncoder()\n",
        "    data[column] = le.fit_transform(data[column])\n",
        "\n",
        "# Видалення зайвих стовпців\n",
        "data = data.drop(columns=['Unnamed: 12', 'Output'])  # Припускаю, що 'Unnamed: 12' не несе корисної інформації\n",
        "\n",
        "# Визначення вхідних та вихідних змінних\n",
        "X = data.drop('Age', axis=1)\n",
        "y = data['Age']\n",
        "\n",
        "# Розділення на тренувальні та тестові дані\n",
        "X_train, X_test, y_train, y_test = train_test_split(X, y, test_size=0.2, random_state=42)\n",
        "\n",
        "# Масштабування даних\n",
        "scaler = StandardScaler()\n",
        "X_train = scaler.fit_transform(X_train)\n",
        "X_test = scaler.transform(X_test)\n"
      ],
      "metadata": {
        "colab": {
          "base_uri": "https://localhost:8080/"
        },
        "id": "E3XaVsCVKVTW",
        "outputId": "8cb22f37-8517-4c33-a231-ac361d70b466"
      },
      "execution_count": null,
      "outputs": [
        {
          "output_type": "stream",
          "name": "stdout",
          "text": [
            "   Age  Gender Marital Status Occupation  Monthly Income  \\\n",
            "0   20  Female         Single    Student       No Income   \n",
            "1   24  Female         Single    Student  Below Rs.10000   \n",
            "2   22    Male         Single    Student  Below Rs.10000   \n",
            "3   22  Female         Single    Student       No Income   \n",
            "4   22    Male         Single    Student  Below Rs.10000   \n",
            "\n",
            "  Educational Qualifications  Family size  latitude  longitude  Pin code  \\\n",
            "0              Post Graduate            4   12.9766    77.5993    560001   \n",
            "1                   Graduate            3   12.9770    77.5773    560009   \n",
            "2              Post Graduate            3   12.9551    77.6593    560017   \n",
            "3                   Graduate            6   12.9473    77.5616    560019   \n",
            "4              Post Graduate            4   12.9850    77.5533    560010   \n",
            "\n",
            "  Output   Feedback Unnamed: 12  \n",
            "0    Yes   Positive         Yes  \n",
            "1    Yes   Positive         Yes  \n",
            "2    Yes  Negative          Yes  \n",
            "3    Yes   Positive         Yes  \n",
            "4    Yes   Positive         Yes  \n",
            "<class 'pandas.core.frame.DataFrame'>\n",
            "RangeIndex: 388 entries, 0 to 387\n",
            "Data columns (total 13 columns):\n",
            " #   Column                      Non-Null Count  Dtype  \n",
            "---  ------                      --------------  -----  \n",
            " 0   Age                         388 non-null    int64  \n",
            " 1   Gender                      388 non-null    object \n",
            " 2   Marital Status              388 non-null    object \n",
            " 3   Occupation                  388 non-null    object \n",
            " 4   Monthly Income              388 non-null    object \n",
            " 5   Educational Qualifications  388 non-null    object \n",
            " 6   Family size                 388 non-null    int64  \n",
            " 7   latitude                    388 non-null    float64\n",
            " 8   longitude                   388 non-null    float64\n",
            " 9   Pin code                    388 non-null    int64  \n",
            " 10  Output                      388 non-null    object \n",
            " 11  Feedback                    388 non-null    object \n",
            " 12  Unnamed: 12                 388 non-null    object \n",
            "dtypes: float64(2), int64(3), object(8)\n",
            "memory usage: 39.5+ KB\n",
            "None\n"
          ]
        }
      ]
    },
    {
      "cell_type": "markdown",
      "source": [
        "Побудова моделі Keras для лінійної регресії"
      ],
      "metadata": {
        "id": "HoYaHDwdKZSn"
      }
    },
    {
      "cell_type": "code",
      "source": [
        "from keras.models import Sequential\n",
        "from keras.layers import Dense\n",
        "\n",
        "# Лінійна регресійна модель\n",
        "model_linear = Sequential()\n",
        "model_linear.add(Dense(1, input_dim=X_train.shape[1], activation='linear'))\n",
        "\n",
        "model_linear.compile(optimizer='adam', loss='mean_squared_error')\n",
        "model_linear.fit(X_train, y_train, epochs=50, batch_size=10, verbose=1)\n",
        "\n",
        "# Оцінка моделі\n",
        "loss_linear = model_linear.evaluate(X_test, y_test)\n",
        "print(f'Linear Regression Loss: {loss_linear}')\n"
      ],
      "metadata": {
        "colab": {
          "base_uri": "https://localhost:8080/"
        },
        "id": "MXj0ZPvXKdoh",
        "outputId": "7c0c2596-2526-4873-87aa-00ff80e23a52"
      },
      "execution_count": null,
      "outputs": [
        {
          "output_type": "stream",
          "name": "stdout",
          "text": [
            "Epoch 1/50\n",
            "31/31 [==============================] - 1s 3ms/step - loss: 619.2742\n",
            "Epoch 2/50\n",
            "31/31 [==============================] - 0s 3ms/step - loss: 617.6505\n",
            "Epoch 3/50\n",
            "31/31 [==============================] - 0s 4ms/step - loss: 616.0416\n",
            "Epoch 4/50\n",
            "31/31 [==============================] - 0s 4ms/step - loss: 614.4542\n",
            "Epoch 5/50\n",
            "31/31 [==============================] - 0s 3ms/step - loss: 612.8826\n",
            "Epoch 6/50\n",
            "31/31 [==============================] - 0s 3ms/step - loss: 611.3064\n",
            "Epoch 7/50\n",
            "31/31 [==============================] - 0s 2ms/step - loss: 609.7144\n",
            "Epoch 8/50\n",
            "31/31 [==============================] - 0s 2ms/step - loss: 608.1600\n",
            "Epoch 9/50\n",
            "31/31 [==============================] - 0s 2ms/step - loss: 606.5971\n",
            "Epoch 10/50\n",
            "31/31 [==============================] - 0s 2ms/step - loss: 605.0369\n",
            "Epoch 11/50\n",
            "31/31 [==============================] - 0s 2ms/step - loss: 603.4532\n",
            "Epoch 12/50\n",
            "31/31 [==============================] - 0s 1ms/step - loss: 601.8918\n",
            "Epoch 13/50\n",
            "31/31 [==============================] - 0s 2ms/step - loss: 600.3517\n",
            "Epoch 14/50\n",
            "31/31 [==============================] - 0s 2ms/step - loss: 598.7936\n",
            "Epoch 15/50\n",
            "31/31 [==============================] - 0s 2ms/step - loss: 597.2578\n",
            "Epoch 16/50\n",
            "31/31 [==============================] - 0s 2ms/step - loss: 595.7169\n",
            "Epoch 17/50\n",
            "31/31 [==============================] - 0s 2ms/step - loss: 594.1557\n",
            "Epoch 18/50\n",
            "31/31 [==============================] - 0s 1ms/step - loss: 592.6298\n",
            "Epoch 19/50\n",
            "31/31 [==============================] - 0s 2ms/step - loss: 591.0850\n",
            "Epoch 20/50\n",
            "31/31 [==============================] - 0s 2ms/step - loss: 589.5660\n",
            "Epoch 21/50\n",
            "31/31 [==============================] - 0s 2ms/step - loss: 588.0413\n",
            "Epoch 22/50\n",
            "31/31 [==============================] - 0s 2ms/step - loss: 586.5159\n",
            "Epoch 23/50\n",
            "31/31 [==============================] - 0s 1ms/step - loss: 584.9952\n",
            "Epoch 24/50\n",
            "31/31 [==============================] - 0s 2ms/step - loss: 583.4689\n",
            "Epoch 25/50\n",
            "31/31 [==============================] - 0s 1ms/step - loss: 581.9573\n",
            "Epoch 26/50\n",
            "31/31 [==============================] - 0s 1ms/step - loss: 580.4521\n",
            "Epoch 27/50\n",
            "31/31 [==============================] - 0s 1ms/step - loss: 578.9507\n",
            "Epoch 28/50\n",
            "31/31 [==============================] - 0s 2ms/step - loss: 577.4233\n",
            "Epoch 29/50\n",
            "31/31 [==============================] - 0s 2ms/step - loss: 575.9287\n",
            "Epoch 30/50\n",
            "31/31 [==============================] - 0s 1ms/step - loss: 574.4335\n",
            "Epoch 31/50\n",
            "31/31 [==============================] - 0s 1ms/step - loss: 572.9394\n",
            "Epoch 32/50\n",
            "31/31 [==============================] - 0s 2ms/step - loss: 571.4445\n",
            "Epoch 33/50\n",
            "31/31 [==============================] - 0s 2ms/step - loss: 569.9429\n",
            "Epoch 34/50\n",
            "31/31 [==============================] - 0s 2ms/step - loss: 568.4747\n",
            "Epoch 35/50\n",
            "31/31 [==============================] - 0s 1ms/step - loss: 566.9825\n",
            "Epoch 36/50\n",
            "31/31 [==============================] - 0s 2ms/step - loss: 565.5037\n",
            "Epoch 37/50\n",
            "31/31 [==============================] - 0s 2ms/step - loss: 564.0242\n",
            "Epoch 38/50\n",
            "31/31 [==============================] - 0s 2ms/step - loss: 562.5555\n",
            "Epoch 39/50\n",
            "31/31 [==============================] - 0s 1ms/step - loss: 561.0916\n",
            "Epoch 40/50\n",
            "31/31 [==============================] - 0s 2ms/step - loss: 559.6132\n",
            "Epoch 41/50\n",
            "31/31 [==============================] - 0s 2ms/step - loss: 558.1512\n",
            "Epoch 42/50\n",
            "31/31 [==============================] - 0s 2ms/step - loss: 556.6851\n",
            "Epoch 43/50\n",
            "31/31 [==============================] - 0s 2ms/step - loss: 555.2235\n",
            "Epoch 44/50\n",
            "31/31 [==============================] - 0s 2ms/step - loss: 553.7643\n",
            "Epoch 45/50\n",
            "31/31 [==============================] - 0s 3ms/step - loss: 552.3216\n",
            "Epoch 46/50\n",
            "31/31 [==============================] - 0s 3ms/step - loss: 550.8634\n",
            "Epoch 47/50\n",
            "31/31 [==============================] - 0s 3ms/step - loss: 549.4177\n",
            "Epoch 48/50\n",
            "31/31 [==============================] - 0s 3ms/step - loss: 547.9875\n",
            "Epoch 49/50\n",
            "31/31 [==============================] - 0s 3ms/step - loss: 546.5576\n",
            "Epoch 50/50\n",
            "31/31 [==============================] - 0s 3ms/step - loss: 545.1077\n",
            "3/3 [==============================] - 0s 4ms/step - loss: 530.6306\n",
            "Linear Regression Loss: 530.6305541992188\n"
          ]
        }
      ]
    },
    {
      "cell_type": "markdown",
      "source": [
        "Побудова моделі Keras для поліноміальної регресії"
      ],
      "metadata": {
        "id": "Ldyoz4ebK37r"
      }
    },
    {
      "cell_type": "code",
      "source": [
        "from sklearn.preprocessing import PolynomialFeatures\n",
        "\n",
        "# Поліноміальні ознаки\n",
        "poly = PolynomialFeatures(degree=2)\n",
        "X_poly_train = poly.fit_transform(X_train)\n",
        "X_poly_test = poly.transform(X_test)\n",
        "\n",
        "# Поліноміальна регресійна модель\n",
        "model_poly = Sequential()\n",
        "model_poly.add(Dense(1, input_dim=X_poly_train.shape[1], activation='linear'))\n",
        "\n",
        "model_poly.compile(optimizer='adam', loss='mean_squared_error')\n",
        "model_poly.fit(X_poly_train, y_train, epochs=100, batch_size=10, verbose=1)\n",
        "\n",
        "# Оцінка моделі\n",
        "loss_poly = model_poly.evaluate(X_poly_test, y_test)\n",
        "print(f'Polynomial Regression Loss: {loss_poly}')\n"
      ],
      "metadata": {
        "colab": {
          "base_uri": "https://localhost:8080/"
        },
        "id": "bSpUPipKKimP",
        "outputId": "24b089ec-08c5-4b3f-ea51-486e0144ab25"
      },
      "execution_count": null,
      "outputs": [
        {
          "output_type": "stream",
          "name": "stdout",
          "text": [
            "Epoch 1/50\n",
            "31/31 [==============================] - 1s 3ms/step - loss: 634.1231\n",
            "Epoch 2/50\n",
            "31/31 [==============================] - 0s 3ms/step - loss: 611.9371\n",
            "Epoch 3/50\n",
            "31/31 [==============================] - 0s 3ms/step - loss: 590.7604\n",
            "Epoch 4/50\n",
            "31/31 [==============================] - 0s 3ms/step - loss: 569.8637\n",
            "Epoch 5/50\n",
            "31/31 [==============================] - 0s 3ms/step - loss: 549.9565\n",
            "Epoch 6/50\n",
            "31/31 [==============================] - 0s 3ms/step - loss: 530.6214\n",
            "Epoch 7/50\n",
            "31/31 [==============================] - 0s 3ms/step - loss: 511.6715\n",
            "Epoch 8/50\n",
            "31/31 [==============================] - 0s 2ms/step - loss: 493.5403\n",
            "Epoch 9/50\n",
            "31/31 [==============================] - 0s 3ms/step - loss: 475.9483\n",
            "Epoch 10/50\n",
            "31/31 [==============================] - 0s 3ms/step - loss: 458.9885\n",
            "Epoch 11/50\n",
            "31/31 [==============================] - 0s 3ms/step - loss: 442.4147\n",
            "Epoch 12/50\n",
            "31/31 [==============================] - 0s 2ms/step - loss: 426.6050\n",
            "Epoch 13/50\n",
            "31/31 [==============================] - 0s 2ms/step - loss: 411.1663\n",
            "Epoch 14/50\n",
            "31/31 [==============================] - 0s 2ms/step - loss: 396.2877\n",
            "Epoch 15/50\n",
            "31/31 [==============================] - 0s 2ms/step - loss: 381.9287\n",
            "Epoch 16/50\n",
            "31/31 [==============================] - 0s 3ms/step - loss: 368.0495\n",
            "Epoch 17/50\n",
            "31/31 [==============================] - 0s 2ms/step - loss: 354.6920\n",
            "Epoch 18/50\n",
            "31/31 [==============================] - 0s 2ms/step - loss: 341.7525\n",
            "Epoch 19/50\n",
            "31/31 [==============================] - 0s 3ms/step - loss: 329.3055\n",
            "Epoch 20/50\n",
            "31/31 [==============================] - 0s 2ms/step - loss: 317.2455\n",
            "Epoch 21/50\n",
            "31/31 [==============================] - 0s 3ms/step - loss: 305.6595\n",
            "Epoch 22/50\n",
            "31/31 [==============================] - 0s 3ms/step - loss: 294.5225\n",
            "Epoch 23/50\n",
            "31/31 [==============================] - 0s 3ms/step - loss: 283.7383\n",
            "Epoch 24/50\n",
            "31/31 [==============================] - 0s 3ms/step - loss: 273.3388\n",
            "Epoch 25/50\n",
            "31/31 [==============================] - 0s 3ms/step - loss: 263.3954\n",
            "Epoch 26/50\n",
            "31/31 [==============================] - 0s 3ms/step - loss: 253.7418\n",
            "Epoch 27/50\n",
            "31/31 [==============================] - 0s 3ms/step - loss: 244.5068\n",
            "Epoch 28/50\n",
            "31/31 [==============================] - 0s 3ms/step - loss: 235.5985\n",
            "Epoch 29/50\n",
            "31/31 [==============================] - 0s 3ms/step - loss: 227.0726\n",
            "Epoch 30/50\n",
            "31/31 [==============================] - 0s 3ms/step - loss: 218.7769\n",
            "Epoch 31/50\n",
            "31/31 [==============================] - 0s 3ms/step - loss: 210.8580\n",
            "Epoch 32/50\n",
            "31/31 [==============================] - 0s 2ms/step - loss: 203.2366\n",
            "Epoch 33/50\n",
            "31/31 [==============================] - 0s 3ms/step - loss: 195.9547\n",
            "Epoch 34/50\n",
            "31/31 [==============================] - 0s 3ms/step - loss: 188.9055\n",
            "Epoch 35/50\n",
            "31/31 [==============================] - 0s 3ms/step - loss: 182.1603\n",
            "Epoch 36/50\n",
            "31/31 [==============================] - 0s 3ms/step - loss: 175.6984\n",
            "Epoch 37/50\n",
            "31/31 [==============================] - 0s 2ms/step - loss: 169.4470\n",
            "Epoch 38/50\n",
            "31/31 [==============================] - 0s 2ms/step - loss: 163.4842\n",
            "Epoch 39/50\n",
            "31/31 [==============================] - 0s 2ms/step - loss: 157.7617\n",
            "Epoch 40/50\n",
            "31/31 [==============================] - 0s 2ms/step - loss: 152.2599\n",
            "Epoch 41/50\n",
            "31/31 [==============================] - 0s 2ms/step - loss: 146.9457\n",
            "Epoch 42/50\n",
            "31/31 [==============================] - 0s 2ms/step - loss: 141.9031\n",
            "Epoch 43/50\n",
            "31/31 [==============================] - 0s 2ms/step - loss: 137.0577\n",
            "Epoch 44/50\n",
            "31/31 [==============================] - 0s 2ms/step - loss: 132.3835\n",
            "Epoch 45/50\n",
            "31/31 [==============================] - 0s 2ms/step - loss: 127.9376\n",
            "Epoch 46/50\n",
            "31/31 [==============================] - 0s 2ms/step - loss: 123.6488\n",
            "Epoch 47/50\n",
            "31/31 [==============================] - 0s 2ms/step - loss: 119.5584\n",
            "Epoch 48/50\n",
            "31/31 [==============================] - 0s 2ms/step - loss: 115.6165\n",
            "Epoch 49/50\n",
            "31/31 [==============================] - 0s 2ms/step - loss: 111.8775\n",
            "Epoch 50/50\n",
            "31/31 [==============================] - 0s 2ms/step - loss: 108.2231\n",
            "3/3 [==============================] - 0s 4ms/step - loss: 113.1735\n",
            "Polynomial Regression Loss: 113.17353057861328\n"
          ]
        }
      ]
    },
    {
      "cell_type": "markdown",
      "source": [
        "Графіки"
      ],
      "metadata": {
        "id": "UyOohiDrLJup"
      }
    },
    {
      "cell_type": "code",
      "source": [
        "import matplotlib.pyplot as plt\n",
        "\n",
        "# Передбачення\n",
        "y_pred_linear = model_linear.predict(X_test).flatten()\n",
        "y_pred_poly = model_poly.predict(X_poly_test).flatten()\n",
        "\n",
        "# Графік для лінійної регресії\n",
        "plt.figure(figsize=(10, 6))\n",
        "plt.scatter(y_test, y_pred_linear, color='blue')\n",
        "plt.plot([min(y_test), max(y_test)], [min(y_test), max(y_test)], color='red', linestyle='--')\n",
        "plt.xlabel('Actual Age')\n",
        "plt.ylabel('Predicted Age')\n",
        "plt.title('Linear Regression: Actual vs Predicted')\n",
        "plt.show()\n",
        "\n",
        "# Графік для поліноміальної регресії\n",
        "plt.figure(figsize=(10, 6))\n",
        "plt.scatter(y_test, y_pred_poly, color='blue')\n",
        "plt.plot([min(y_test), max(y_test)], [min(y_test), max(y_test)], color='red', linestyle='--')\n",
        "plt.xlabel('Actual Age')\n",
        "plt.ylabel('Predicted Age')\n",
        "plt.title('Polynomial Regression: Actual vs Predicted')\n",
        "plt.show()\n",
        "\n"
      ],
      "metadata": {
        "colab": {
          "base_uri": "https://localhost:8080/",
          "height": 1000
        },
        "id": "MkLOQgijLJOT",
        "outputId": "789ef92a-167a-413e-e2c9-8d7381f7f72e"
      },
      "execution_count": null,
      "outputs": [
        {
          "output_type": "stream",
          "name": "stdout",
          "text": [
            "3/3 [==============================] - 0s 7ms/step\n",
            "3/3 [==============================] - 0s 6ms/step\n"
          ]
        },
        {
          "output_type": "display_data",
          "data": {
            "text/plain": [
              "<Figure size 1000x600 with 1 Axes>"
            ],
            "image/png": "[encoded data removed]"
          },
          "metadata": {}
        },
        {
          "output_type": "display_data",
          "data": {
            "text/plain": [
              "<Figure size 1000x600 with 1 Axes>"
            ],
            "image/png": "[encoded data removed]"
          },
          "metadata": {}
        }
      ]
    },
    {
      "cell_type": "markdown",
      "source": [
        "Порівняти отримані результати"
      ],
      "metadata": {
        "id": "zYY5B63_NAgQ"
      }
    },
    {
      "cell_type": "code",
      "source": [
        "print(f'Linear Regression MSE: {loss_linear}')\n",
        "print(f'Polynomial Regression MSE: {loss_poly}')\n"
      ],
      "metadata": {
        "colab": {
          "base_uri": "https://localhost:8080/"
        },
        "id": "ZPhe0LjuM9yb",
        "outputId": "8972bfe3-642f-481e-d45b-4e593fa31203"
      },
      "execution_count": null,
      "outputs": [
        {
          "output_type": "stream",
          "name": "stdout",
          "text": [
            "Linear Regression MSE: 530.6305541992188\n",
            "Polynomial Regression MSE: 113.17353057861328\n"
          ]
        }
      ]
    },
    {
      "cell_type": "markdown",
      "source": [
        " Отримані значення середньоквадратичної помилки (MSE) показують, що поліноміальна регресійна модель має значно менше MSE (113.17) в порівнянні з лінійною регресійною моделлю (530.63). Це означає, що поліноміальна модель краще відтворює залежність між вхідними та вихідними змінними у вашому наборі даних.\n",
        "\n",
        "Таке різниця у значеннях MSE показує, що використання поліноміальних ознак дозволяє моделі краще підлаштуватися під дані, що може призвести до кращої точності передбачень віку. Таким чином, з погляду MSE поліноміальна регресійна модель є кращим вибором для цього набору даних."
      ],
      "metadata": {
        "id": "urYLbtQpNNL2"
      }
    },
    {
      "cell_type": "markdown",
      "source": [
        "Лабораторна робота_10_2_(Логістична_регресія_з_Keras)"
      ],
      "metadata": {
        "id": "s0Ry4MsdRsFs"
      }
    },
    {
      "cell_type": "code",
      "source": [
        "import tensorflow as tf\n",
        "from tensorflow import keras\n",
        "from tensorflow.keras import layers\n",
        "from tensorflow.keras.datasets import mnist\n",
        "\n",
        "import matplotlib.pyplot as plt\n",
        "num_classes = 10\n",
        "\n",
        "(x_train, y_train), (x_test, y_test) = mnist.load_data()\n",
        "print(x_train.shape[0], 'train samples')\n",
        "print(x_test.shape[0], 'test samples')\n",
        "print('image shape', x_train[0].shape)\n"
      ],
      "metadata": {
        "colab": {
          "base_uri": "https://localhost:8080/"
        },
        "id": "p7T73XN9YVDo",
        "outputId": "2d270361-6c90-4c1e-b41a-868c9226864b"
      },
      "execution_count": null,
      "outputs": [
        {
          "output_type": "stream",
          "name": "stdout",
          "text": [
            "60000 train samples\n",
            "10000 test samples\n",
            "image shape (28, 28)\n"
          ]
        }
      ]
    },
    {
      "cell_type": "code",
      "source": [
        "num_classes = 10\n",
        "\n",
        "(x_train, y_train), (x_test, y_test) = mnist.load_data()\n",
        "print(x_train.shape[0], 'train samples')\n",
        "print(x_test.shape[0], 'test samples')\n",
        "print('image shape', x_train[0].shape)"
      ],
      "metadata": {
        "colab": {
          "base_uri": "https://localhost:8080/"
        },
        "id": "u4dHJpRWbwRp",
        "outputId": "201907a1-96af-4a9a-f220-1ae6d39bd833"
      },
      "execution_count": null,
      "outputs": [
        {
          "output_type": "stream",
          "name": "stdout",
          "text": [
            "60000 train samples\n",
            "10000 test samples\n",
            "image shape (28, 28)\n"
          ]
        }
      ]
    },
    {
      "cell_type": "code",
      "source": [
        "sample = 0\n",
        "print('label: ', y_train[sample])\n",
        "image = x_train[sample]\n"
      ],
      "metadata": {
        "colab": {
          "base_uri": "https://localhost:8080/"
        },
        "id": "l3CVa8Y0bzzj",
        "outputId": "54676462-fc4e-44e7-ba36-a58ca61dbe72"
      },
      "execution_count": null,
      "outputs": [
        {
          "output_type": "stream",
          "name": "stdout",
          "text": [
            "label:  [[1. 0. 0. 0. 0. 0. 0. 0. 0. 0.]\n",
            " [1. 0. 0. 0. 0. 0. 0. 0. 0. 0.]\n",
            " [1. 0. 0. 0. 0. 0. 0. 0. 0. 0.]\n",
            " [1. 0. 0. 0. 0. 0. 0. 0. 0. 0.]\n",
            " [1. 0. 0. 0. 0. 0. 0. 0. 0. 0.]\n",
            " [0. 1. 0. 0. 0. 0. 0. 0. 0. 0.]\n",
            " [1. 0. 0. 0. 0. 0. 0. 0. 0. 0.]\n",
            " [1. 0. 0. 0. 0. 0. 0. 0. 0. 0.]\n",
            " [1. 0. 0. 0. 0. 0. 0. 0. 0. 0.]\n",
            " [1. 0. 0. 0. 0. 0. 0. 0. 0. 0.]]\n"
          ]
        }
      ]
    },
    {
      "cell_type": "code",
      "source": [
        "input_dim = 28 * 28 #784\n",
        "\n",
        "x_train = x_train.reshape(60000, input_dim)\n",
        "x_test = x_test.reshape(10000, input_dim)\n",
        "x_train = x_train.astype('float32')\n",
        "x_test = x_test.astype('float32')\n",
        "x_train /= 255\n",
        "x_test /= 255\n",
        "\n",
        "# convert class vectors to binary class matrices\n",
        "y_train = keras.utils.to_categorical(y_train, num_classes)\n",
        "y_test = keras.utils.to_categorical(y_test, num_classes)"
      ],
      "metadata": {
        "id": "u3pQbJhWb1bR"
      },
      "execution_count": null,
      "outputs": []
    },
    {
      "cell_type": "code",
      "source": [
        "from tensorflow.keras.datasets import mnist\n",
        "from tensorflow.keras.utils import to_categorical\n",
        "\n",
        "# Завантажимо дані MNIST\n",
        "(x_train, y_train), (x_test, y_test) = mnist.load_data()\n",
        "\n",
        "# Масштабуємо дані та перетворимо мітки в категоріальні\n",
        "x_train = x_train.reshape(-1, 28, 28, 1).astype('float32') / 255.0\n",
        "x_test = x_test.reshape(-1, 28, 28, 1).astype('float32') / 255.0\n",
        "y_train = to_categorical(y_train)\n",
        "y_test = to_categorical(y_test)\n"
      ],
      "metadata": {
        "id": "kZxVYFSJcjwt"
      },
      "execution_count": null,
      "outputs": []
    },
    {
      "cell_type": "markdown",
      "source": [
        "Model"
      ],
      "metadata": {
        "id": "Z4UZqkQDcy6k"
      }
    },
    {
      "cell_type": "code",
      "source": [
        "from tensorflow.keras import layers, models\n",
        "\n",
        "model = models.Sequential([\n",
        "    layers.Flatten(input_shape=(28, 28)),\n",
        "    layers.Dense(num_classes, activation='softmax')\n",
        "])\n",
        "\n",
        "model.compile(optimizer='sgd',\n",
        "              loss='categorical_crossentropy',\n",
        "              metrics=['accuracy'])\n",
        "\n",
        "history = model.fit(x_train, y_train,epochs=10,batch_size=64, validation_data=(x_test, y_test),verbose=1)\n",
        "\n",
        "print(model.summary())\n",
        "\n",
        "history_dict = history.history\n",
        "loss_values = history_dict[\"loss\"]\n",
        "val_loss_values = history_dict[\"val_loss\"]\n",
        "epochs = range(1, len(loss_values) + 1)\n",
        "\n",
        "plt.plot(epochs, loss_values, \"bo\", label=\"Training loss\")\n",
        "plt.plot(epochs, val_loss_values, \"b\", label=\"Validation loss\")\n",
        "plt.title(\"Training and validation loss\")\n",
        "plt.xlabel(\"Epochs\")\n",
        "plt.ylabel(\"Loss\")\n",
        "plt.legend()\n",
        "plt.show()\n",
        "\n",
        "score = model.evaluate(x_test, y_test, verbose=0)\n",
        "print('Test score:', score[0])\n",
        "print('Test accuracy:', score[1])\n"
      ],
      "metadata": {
        "colab": {
          "base_uri": "https://localhost:8080/",
          "height": 1000
        },
        "id": "9x9UuWUZb8Vo",
        "outputId": "80a7e88e-a5fe-4533-d74a-80ee69e092f3"
      },
      "execution_count": null,
      "outputs": [
        {
          "output_type": "stream",
          "name": "stdout",
          "text": [
            "Epoch 1/10\n",
            "938/938 [==============================] - 3s 3ms/step - loss: 0.9814 - accuracy: 0.7758 - val_loss: 0.6046 - val_accuracy: 0.8611\n",
            "Epoch 2/10\n",
            "938/938 [==============================] - 5s 6ms/step - loss: 0.5533 - accuracy: 0.8656 - val_loss: 0.4791 - val_accuracy: 0.8819\n",
            "Epoch 3/10\n",
            "938/938 [==============================] - 2s 2ms/step - loss: 0.4735 - accuracy: 0.8779 - val_loss: 0.4292 - val_accuracy: 0.8891\n",
            "Epoch 4/10\n",
            "938/938 [==============================] - 2s 2ms/step - loss: 0.4348 - accuracy: 0.8848 - val_loss: 0.4002 - val_accuracy: 0.8949\n",
            "Epoch 5/10\n",
            "938/938 [==============================] - 2s 2ms/step - loss: 0.4105 - accuracy: 0.8901 - val_loss: 0.3809 - val_accuracy: 0.9003\n",
            "Epoch 6/10\n",
            "938/938 [==============================] - 2s 2ms/step - loss: 0.3936 - accuracy: 0.8932 - val_loss: 0.3674 - val_accuracy: 0.9020\n",
            "Epoch 7/10\n",
            "938/938 [==============================] - 3s 3ms/step - loss: 0.3809 - accuracy: 0.8960 - val_loss: 0.3570 - val_accuracy: 0.9050\n",
            "Epoch 8/10\n",
            "938/938 [==============================] - 2s 2ms/step - loss: 0.3709 - accuracy: 0.8985 - val_loss: 0.3486 - val_accuracy: 0.9058\n",
            "Epoch 9/10\n",
            "938/938 [==============================] - 2s 2ms/step - loss: 0.3627 - accuracy: 0.9000 - val_loss: 0.3417 - val_accuracy: 0.9064\n",
            "Epoch 10/10\n",
            "938/938 [==============================] - 2s 2ms/step - loss: 0.3558 - accuracy: 0.9019 - val_loss: 0.3359 - val_accuracy: 0.9087\n",
            "Model: \"sequential_33\"\n",
            "_________________________________________________________________\n",
            " Layer (type)                Output Shape              Param #   \n",
            "=================================================================\n",
            " flatten_9 (Flatten)         (None, 784)               0         \n",
            "                                                                 \n",
            " dense_37 (Dense)            (None, 10)                7850      \n",
            "                                                                 \n",
            "=================================================================\n",
            "Total params: 7850 (30.66 KB)\n",
            "Trainable params: 7850 (30.66 KB)\n",
            "Non-trainable params: 0 (0.00 Byte)\n",
            "_________________________________________________________________\n",
            "None\n"
          ]
        },
        {
          "output_type": "display_data",
          "data": {
            "text/plain": [
              "<Figure size 640x480 with 1 Axes>"
            ],
            "image/png": "[encoded data removed]"
          },
          "metadata": {}
        },
        {
          "output_type": "stream",
          "name": "stdout",
          "text": [
            "Test score: 0.3358847200870514\n",
            "Test accuracy: 0.9086999893188477\n"
          ]
        }
      ]
    },
    {
      "cell_type": "markdown",
      "source": [
        "Змінюємо функцію активації та оптимізатор"
      ],
      "metadata": {
        "id": "sxlaB1FAdYTO"
      }
    },
    {
      "cell_type": "code",
      "source": [
        "model_relu_adam = keras.Sequential([\n",
        "    layers.Flatten(input_shape=(28, 28)),\n",
        "    layers.Dense(128, activation='relu'),\n",
        "    layers.Dense(num_classes, activation='softmax')\n",
        "])\n",
        "\n",
        "model_relu_adam.compile(optimizer='adam',\n",
        "                        loss='categorical_crossentropy',\n",
        "                        metrics=['accuracy'])\n",
        "\n",
        "history_relu_adam = model_relu_adam.fit(x_train,\n",
        "                                        y_train,\n",
        "                                        epochs=10,\n",
        "                                        batch_size=64,\n",
        "                                        validation_split=0.2,\n",
        "                                        verbose=2)\n",
        "\n",
        "score_relu_adam = model_relu_adam.evaluate(x_test, y_test, verbose=0)\n",
        "print('Test score (ReLU, Adam):', score_relu_adam[0])\n",
        "print('Test accuracy (ReLU, Adam):', score_relu_adam[1])\n"
      ],
      "metadata": {
        "colab": {
          "base_uri": "https://localhost:8080/"
        },
        "id": "tCZrZX3nd5jP",
        "outputId": "610be5e2-02d1-42af-8024-e0d2f4c90bd1"
      },
      "execution_count": null,
      "outputs": [
        {
          "output_type": "stream",
          "name": "stdout",
          "text": [
            "Epoch 1/10\n",
            "750/750 - 8s - loss: 0.3342 - accuracy: 0.9060 - val_loss: 0.1819 - val_accuracy: 0.9482 - 8s/epoch - 11ms/step\n",
            "Epoch 2/10\n",
            "750/750 - 3s - loss: 0.1507 - accuracy: 0.9560 - val_loss: 0.1364 - val_accuracy: 0.9588 - 3s/epoch - 4ms/step\n",
            "Epoch 3/10\n",
            "750/750 - 3s - loss: 0.1072 - accuracy: 0.9684 - val_loss: 0.1190 - val_accuracy: 0.9661 - 3s/epoch - 4ms/step\n",
            "Epoch 4/10\n",
            "750/750 - 3s - loss: 0.0835 - accuracy: 0.9764 - val_loss: 0.1038 - val_accuracy: 0.9691 - 3s/epoch - 4ms/step\n",
            "Epoch 5/10\n",
            "750/750 - 4s - loss: 0.0657 - accuracy: 0.9809 - val_loss: 0.1025 - val_accuracy: 0.9677 - 4s/epoch - 5ms/step\n",
            "Epoch 6/10\n",
            "750/750 - 3s - loss: 0.0526 - accuracy: 0.9842 - val_loss: 0.0904 - val_accuracy: 0.9732 - 3s/epoch - 4ms/step\n",
            "Epoch 7/10\n",
            "750/750 - 3s - loss: 0.0423 - accuracy: 0.9880 - val_loss: 0.0931 - val_accuracy: 0.9722 - 3s/epoch - 4ms/step\n",
            "Epoch 8/10\n",
            "750/750 - 4s - loss: 0.0349 - accuracy: 0.9900 - val_loss: 0.0887 - val_accuracy: 0.9724 - 4s/epoch - 5ms/step\n",
            "Epoch 9/10\n",
            "750/750 - 3s - loss: 0.0276 - accuracy: 0.9925 - val_loss: 0.0906 - val_accuracy: 0.9738 - 3s/epoch - 4ms/step\n",
            "Epoch 10/10\n",
            "750/750 - 3s - loss: 0.0237 - accuracy: 0.9935 - val_loss: 0.0897 - val_accuracy: 0.9743 - 3s/epoch - 4ms/step\n",
            "Test score (ReLU, Adam): 0.08354809880256653\n",
            "Test accuracy (ReLU, Adam): 0.9757999777793884\n"
          ]
        }
      ]
    },
    {
      "cell_type": "code",
      "source": [
        "model_tanh_rmsprop = keras.Sequential([\n",
        "    layers.Flatten(input_shape=(28, 28)),\n",
        "    layers.Dense(128, activation='tanh'),\n",
        "    layers.Dense(num_classes, activation='softmax')\n",
        "])\n",
        "\n",
        "model_tanh_rmsprop.compile(optimizer='rmsprop',\n",
        "                           loss='categorical_crossentropy',\n",
        "                           metrics=['accuracy'])\n",
        "\n",
        "history_tanh_rmsprop = model_tanh_rmsprop.fit(x_train,\n",
        "                                               y_train,\n",
        "                                               epochs=10,\n",
        "                                               batch_size=64,\n",
        "                                               validation_split=0.2,\n",
        "                                               verbose=2)\n",
        "\n",
        "score_tanh_rmsprop = model_tanh_rmsprop.evaluate(x_test, y_test, verbose=0)\n",
        "print('Test score (tanh, RMSprop):', score_tanh_rmsprop[0])\n",
        "print('Test accuracy (tanh, RMSprop):', score_tanh_rmsprop[1])\n"
      ],
      "metadata": {
        "colab": {
          "base_uri": "https://localhost:8080/"
        },
        "id": "E2wJG_Z-eX1t",
        "outputId": "617c1c7c-446a-494d-de9e-75923de8b1f5"
      },
      "execution_count": null,
      "outputs": [
        {
          "output_type": "stream",
          "name": "stdout",
          "text": [
            "Epoch 1/10\n",
            "750/750 - 6s - loss: 0.3409 - accuracy: 0.9019 - val_loss: 0.2134 - val_accuracy: 0.9411 - 6s/epoch - 8ms/step\n",
            "Epoch 2/10\n",
            "750/750 - 10s - loss: 0.1838 - accuracy: 0.9459 - val_loss: 0.1600 - val_accuracy: 0.9549 - 10s/epoch - 14ms/step\n",
            "Epoch 3/10\n",
            "750/750 - 4s - loss: 0.1337 - accuracy: 0.9611 - val_loss: 0.1333 - val_accuracy: 0.9626 - 4s/epoch - 5ms/step\n",
            "Epoch 4/10\n",
            "750/750 - 3s - loss: 0.1030 - accuracy: 0.9705 - val_loss: 0.1241 - val_accuracy: 0.9638 - 3s/epoch - 5ms/step\n",
            "Epoch 5/10\n",
            "750/750 - 4s - loss: 0.0842 - accuracy: 0.9759 - val_loss: 0.1105 - val_accuracy: 0.9670 - 4s/epoch - 5ms/step\n",
            "Epoch 6/10\n",
            "750/750 - 3s - loss: 0.0696 - accuracy: 0.9805 - val_loss: 0.0988 - val_accuracy: 0.9725 - 3s/epoch - 4ms/step\n",
            "Epoch 7/10\n",
            "750/750 - 3s - loss: 0.0580 - accuracy: 0.9834 - val_loss: 0.0970 - val_accuracy: 0.9729 - 3s/epoch - 4ms/step\n",
            "Epoch 8/10\n",
            "750/750 - 4s - loss: 0.0493 - accuracy: 0.9861 - val_loss: 0.0948 - val_accuracy: 0.9732 - 4s/epoch - 5ms/step\n",
            "Epoch 9/10\n",
            "750/750 - 3s - loss: 0.0416 - accuracy: 0.9893 - val_loss: 0.0911 - val_accuracy: 0.9739 - 3s/epoch - 5ms/step\n",
            "Epoch 10/10\n",
            "750/750 - 3s - loss: 0.0356 - accuracy: 0.9906 - val_loss: 0.0866 - val_accuracy: 0.9747 - 3s/epoch - 4ms/step\n",
            "Test score (tanh, RMSprop): 0.07436642795801163\n",
            "Test accuracy (tanh, RMSprop): 0.9767000079154968\n"
          ]
        }
      ]
    },
    {
      "cell_type": "code",
      "source": [
        "model_sigmoid_rmsprop = keras.Sequential([\n",
        "    layers.Flatten(input_shape=(28, 28)),\n",
        "    layers.Dense(128, activation='sigmoid'),\n",
        "    layers.Dense(num_classes, activation='softmax')\n",
        "])\n",
        "\n",
        "model_sigmoid_rmsprop.compile(optimizer='rmsprop',\n",
        "                              loss='categorical_crossentropy',\n",
        "                              metrics=['accuracy'])\n",
        "\n",
        "history_sigmoid_rmsprop = model_sigmoid_rmsprop.fit(x_train,\n",
        "                                                    y_train,\n",
        "                                                    epochs=10,\n",
        "                                                    batch_size=64,\n",
        "                                                    validation_split=0.2,\n",
        "                                                    verbose=2)\n",
        "\n",
        "score_sigmoid_rmsprop = model_sigmoid_rmsprop.evaluate(x_test, y_test, verbose=0)\n",
        "print('Test score (Sigmoid + RMSprop):', score_sigmoid_rmsprop[0])\n",
        "print('Test accuracy (Sigmoid + RMSprop):', score_sigmoid_rmsprop[1])\n"
      ],
      "metadata": {
        "colab": {
          "base_uri": "https://localhost:8080/"
        },
        "id": "Ng9SKVl7ekt8",
        "outputId": "83f2247d-d558-4b1d-e8be-e3b42d26555a"
      },
      "execution_count": null,
      "outputs": [
        {
          "output_type": "stream",
          "name": "stdout",
          "text": [
            "Epoch 1/10\n",
            "750/750 - 6s - loss: 0.5026 - accuracy: 0.8714 - val_loss: 0.2683 - val_accuracy: 0.9240 - 6s/epoch - 8ms/step\n",
            "Epoch 2/10\n",
            "750/750 - 3s - loss: 0.2511 - accuracy: 0.9268 - val_loss: 0.2117 - val_accuracy: 0.9400 - 3s/epoch - 5ms/step\n",
            "Epoch 3/10\n",
            "750/750 - 4s - loss: 0.1992 - accuracy: 0.9414 - val_loss: 0.1851 - val_accuracy: 0.9469 - 4s/epoch - 5ms/step\n",
            "Epoch 4/10\n",
            "750/750 - 4s - loss: 0.1656 - accuracy: 0.9520 - val_loss: 0.1568 - val_accuracy: 0.9560 - 4s/epoch - 5ms/step\n",
            "Epoch 5/10\n",
            "750/750 - 5s - loss: 0.1417 - accuracy: 0.9584 - val_loss: 0.1434 - val_accuracy: 0.9589 - 5s/epoch - 7ms/step\n",
            "Epoch 6/10\n",
            "750/750 - 6s - loss: 0.1228 - accuracy: 0.9642 - val_loss: 0.1324 - val_accuracy: 0.9632 - 6s/epoch - 8ms/step\n",
            "Epoch 7/10\n",
            "750/750 - 4s - loss: 0.1083 - accuracy: 0.9690 - val_loss: 0.1222 - val_accuracy: 0.9663 - 4s/epoch - 5ms/step\n",
            "Epoch 8/10\n",
            "750/750 - 3s - loss: 0.0955 - accuracy: 0.9726 - val_loss: 0.1146 - val_accuracy: 0.9670 - 3s/epoch - 5ms/step\n",
            "Epoch 9/10\n",
            "750/750 - 4s - loss: 0.0855 - accuracy: 0.9751 - val_loss: 0.1113 - val_accuracy: 0.9675 - 4s/epoch - 6ms/step\n",
            "Epoch 10/10\n",
            "750/750 - 3s - loss: 0.0771 - accuracy: 0.9781 - val_loss: 0.1036 - val_accuracy: 0.9698 - 3s/epoch - 4ms/step\n",
            "Test score (Sigmoid + RMSprop): 0.09863142669200897\n",
            "Test accuracy (Sigmoid + RMSprop): 0.9703999757766724\n"
          ]
        }
      ]
    },
    {
      "cell_type": "markdown",
      "source": [
        "Лабораторна_робота_10_3_(Keras_MLP_MNIST)"
      ],
      "metadata": {
        "id": "E6I1V7Woi4rY"
      }
    },
    {
      "cell_type": "markdown",
      "source": [
        "Запропонована архітектура"
      ],
      "metadata": {
        "id": "UMmUo7XyqNuS"
      }
    },
    {
      "cell_type": "code",
      "source": [
        "model =  keras.Sequential()\n",
        "model.add(layers.Dense(512, activation='relu', input_shape=(784,)))\n",
        "model.add(layers.Dense(512, activation='relu'))\n",
        "model.add(layers.Dense(10, activation='softmax'))\n",
        "\n",
        "model.summary()\n",
        "model.compile(loss='categorical_crossentropy',   optimizer='adam', metrics=['accuracy'])\n",
        "history = model.fit(x_train,\n",
        "                    y_train,\n",
        "                    epochs=10,\n",
        "                    batch_size=64,\n",
        "                    validation_split=0.2,\n",
        "                    verbose = 2)\n",
        "history_dict = history.history\n",
        "history_dict.keys()\n",
        "\n",
        "history_dict = history.history\n",
        "loss_values = history_dict[\"loss\"]\n",
        "val_loss_values = history_dict[\"val_loss\"]\n",
        "epochs = range(1, len(loss_values) + 1)\n",
        "plt.plot(epochs, loss_values, \"bo\", label=\"Training loss\")\n",
        "plt.plot(epochs, val_loss_values, \"b\", label=\"Validation loss\")\n",
        "plt.title(\"Training and validation loss\")\n",
        "plt.xlabel(\"Epochs\")\n",
        "plt.ylabel(\"Loss\")\n",
        "plt.legend()\n",
        "plt.show()\n",
        "\n",
        "score = model.evaluate(x_test, y_test, verbose=0)\n",
        "print('Test score:', score[0])\n",
        "print('Test accuracy:', score[1])"
      ],
      "metadata": {
        "colab": {
          "base_uri": "https://localhost:8080/",
          "height": 1000
        },
        "id": "zItRUDI7nzjK",
        "outputId": "726d3bd0-e347-4b6f-f274-854e31bac0fd"
      },
      "execution_count": null,
      "outputs": [
        {
          "output_type": "stream",
          "name": "stdout",
          "text": [
            "Model: \"sequential_42\"\n",
            "_________________________________________________________________\n",
            " Layer (type)                Output Shape              Param #   \n",
            "=================================================================\n",
            " dense_58 (Dense)            (None, 512)               401920    \n",
            "                                                                 \n",
            " dense_59 (Dense)            (None, 512)               262656    \n",
            "                                                                 \n",
            " dense_60 (Dense)            (None, 10)                5130      \n",
            "                                                                 \n",
            "=================================================================\n",
            "Total params: 669706 (2.55 MB)\n",
            "Trainable params: 669706 (2.55 MB)\n",
            "Non-trainable params: 0 (0.00 Byte)\n",
            "_________________________________________________________________\n",
            "Epoch 1/10\n",
            "750/750 - 14s - loss: 0.2139 - accuracy: 0.9362 - val_loss: 0.1236 - val_accuracy: 0.9619 - 14s/epoch - 18ms/step\n",
            "Epoch 2/10\n",
            "750/750 - 10s - loss: 0.0832 - accuracy: 0.9746 - val_loss: 0.1033 - val_accuracy: 0.9697 - 10s/epoch - 14ms/step\n",
            "Epoch 3/10\n",
            "750/750 - 10s - loss: 0.0574 - accuracy: 0.9819 - val_loss: 0.0892 - val_accuracy: 0.9739 - 10s/epoch - 13ms/step\n",
            "Epoch 4/10\n",
            "750/750 - 10s - loss: 0.0395 - accuracy: 0.9875 - val_loss: 0.0844 - val_accuracy: 0.9770 - 10s/epoch - 14ms/step\n",
            "Epoch 5/10\n",
            "750/750 - 11s - loss: 0.0303 - accuracy: 0.9898 - val_loss: 0.0963 - val_accuracy: 0.9749 - 11s/epoch - 14ms/step\n",
            "Epoch 6/10\n",
            "750/750 - 10s - loss: 0.0284 - accuracy: 0.9909 - val_loss: 0.1047 - val_accuracy: 0.9720 - 10s/epoch - 13ms/step\n",
            "Epoch 7/10\n",
            "750/750 - 11s - loss: 0.0185 - accuracy: 0.9940 - val_loss: 0.0955 - val_accuracy: 0.9779 - 11s/epoch - 15ms/step\n",
            "Epoch 8/10\n",
            "750/750 - 12s - loss: 0.0200 - accuracy: 0.9933 - val_loss: 0.1005 - val_accuracy: 0.9776 - 12s/epoch - 16ms/step\n",
            "Epoch 9/10\n",
            "750/750 - 9s - loss: 0.0186 - accuracy: 0.9938 - val_loss: 0.1049 - val_accuracy: 0.9775 - 9s/epoch - 12ms/step\n",
            "Epoch 10/10\n",
            "750/750 - 11s - loss: 0.0172 - accuracy: 0.9949 - val_loss: 0.1037 - val_accuracy: 0.9771 - 11s/epoch - 14ms/step\n"
          ]
        },
        {
          "output_type": "display_data",
          "data": {
            "text/plain": [
              "<Figure size 640x480 with 1 Axes>"
            ],
            "image/png": "[encoded data removed]"
          },
          "metadata": {}
        },
        {
          "output_type": "stream",
          "name": "stdout",
          "text": [
            "Test score: 0.09555531293153763\n",
            "Test accuracy: 0.9781000018119812\n"
          ]
        }
      ]
    },
    {
      "cell_type": "code",
      "source": [
        "model =  keras.Sequential()\n",
        "\n",
        "model.add(layers.Dense(512, input_shape=(784,)))\n",
        "model.add(layers.BatchNormalization())\n",
        "model.add(layers.Activation('relu'))\n",
        "model.add(layers.Dropout(0.5))\n",
        "\n",
        "model.add(layers.Dense(512))\n",
        "model.add(layers.BatchNormalization())\n",
        "model.add(layers.Activation('relu'))\n",
        "model.add(layers.Dropout(0.5))\n",
        "\n",
        "model.add(layers.Dense(10, activation='softmax'))\n",
        "\n",
        "model.summary()\n",
        "model.compile(loss='categorical_crossentropy',   optimizer='adam', metrics=['accuracy'])\n",
        "\n",
        "\n",
        "history = model.fit(x_train,\n",
        "                    y_train,\n",
        "                    epochs=10,\n",
        "                    batch_size=64,\n",
        "                    validation_split=0.2,\n",
        "                    verbose = 2)"
      ],
      "metadata": {
        "colab": {
          "base_uri": "https://localhost:8080/"
        },
        "id": "xNsks7t6sSXl",
        "outputId": "66b12b11-b129-4312-a6b7-0b1ca1372094"
      },
      "execution_count": null,
      "outputs": [
        {
          "output_type": "stream",
          "name": "stdout",
          "text": [
            "Model: \"sequential_45\"\n",
            "_________________________________________________________________\n",
            " Layer (type)                Output Shape              Param #   \n",
            "=================================================================\n",
            " dense_68 (Dense)            (None, 512)               401920    \n",
            "                                                                 \n",
            " batch_normalization (Batch  (None, 512)               2048      \n",
            " Normalization)                                                  \n",
            "                                                                 \n",
            " activation (Activation)     (None, 512)               0         \n",
            "                                                                 \n",
            " dropout_2 (Dropout)         (None, 512)               0         \n",
            "                                                                 \n",
            " dense_69 (Dense)            (None, 512)               262656    \n",
            "                                                                 \n",
            " batch_normalization_1 (Bat  (None, 512)               2048      \n",
            " chNormalization)                                                \n",
            "                                                                 \n",
            " activation_1 (Activation)   (None, 512)               0         \n",
            "                                                                 \n",
            " dropout_3 (Dropout)         (None, 512)               0         \n",
            "                                                                 \n",
            " dense_70 (Dense)            (None, 10)                5130      \n",
            "                                                                 \n",
            "=================================================================\n",
            "Total params: 673802 (2.57 MB)\n",
            "Trainable params: 671754 (2.56 MB)\n",
            "Non-trainable params: 2048 (8.00 KB)\n",
            "_________________________________________________________________\n",
            "Epoch 1/10\n",
            "750/750 - 14s - loss: 0.3667 - accuracy: 0.8862 - val_loss: 0.1382 - val_accuracy: 0.9596 - 14s/epoch - 18ms/step\n",
            "Epoch 2/10\n",
            "750/750 - 12s - loss: 0.1988 - accuracy: 0.9394 - val_loss: 0.1004 - val_accuracy: 0.9693 - 12s/epoch - 16ms/step\n",
            "Epoch 3/10\n",
            "750/750 - 12s - loss: 0.1620 - accuracy: 0.9495 - val_loss: 0.0886 - val_accuracy: 0.9731 - 12s/epoch - 16ms/step\n",
            "Epoch 4/10\n",
            "750/750 - 12s - loss: 0.1355 - accuracy: 0.9579 - val_loss: 0.0831 - val_accuracy: 0.9758 - 12s/epoch - 16ms/step\n",
            "Epoch 5/10\n",
            "750/750 - 12s - loss: 0.1226 - accuracy: 0.9618 - val_loss: 0.0795 - val_accuracy: 0.9760 - 12s/epoch - 16ms/step\n",
            "Epoch 6/10\n",
            "750/750 - 11s - loss: 0.1111 - accuracy: 0.9659 - val_loss: 0.0695 - val_accuracy: 0.9787 - 11s/epoch - 15ms/step\n",
            "Epoch 7/10\n",
            "750/750 - 11s - loss: 0.1015 - accuracy: 0.9668 - val_loss: 0.0713 - val_accuracy: 0.9795 - 11s/epoch - 14ms/step\n",
            "Epoch 8/10\n",
            "750/750 - 11s - loss: 0.0920 - accuracy: 0.9704 - val_loss: 0.0757 - val_accuracy: 0.9778 - 11s/epoch - 15ms/step\n",
            "Epoch 9/10\n",
            "750/750 - 12s - loss: 0.0880 - accuracy: 0.9712 - val_loss: 0.0725 - val_accuracy: 0.9801 - 12s/epoch - 15ms/step\n",
            "Epoch 10/10\n",
            "750/750 - 11s - loss: 0.0816 - accuracy: 0.9724 - val_loss: 0.0692 - val_accuracy: 0.9801 - 11s/epoch - 15ms/step\n"
          ]
        }
      ]
    },
    {
      "cell_type": "markdown",
      "source": [
        "Змінюємо архітектуру"
      ],
      "metadata": {
        "id": "OHFqp900wAp6"
      }
    },
    {
      "cell_type": "code",
      "source": [
        "import tensorflow as tf\n",
        "from tensorflow import keras\n",
        "from tensorflow.keras import layers\n",
        "from tensorflow.keras.datasets import mnist\n",
        "import matplotlib.pyplot as plt\n",
        "\n",
        "# Завантаження даних\n",
        "(x_train, y_train), (x_test, y_test) = mnist.load_data()\n",
        "\n",
        "# Перевірка розмірів даних\n",
        "print(x_train.shape[0], 'train samples')\n",
        "print(x_test.shape[0], 'test samples')\n",
        "print('image shape', x_train[0].shape)\n",
        "\n",
        "# Візуалізація прикладу\n",
        "sample = 0\n",
        "print('label: ', y_train[sample])\n",
        "image = x_train[sample]\n",
        "plt.imshow(image, cmap='gray')\n",
        "plt.show()\n",
        "\n",
        "# Переведення зображень у вектори\n",
        "input_dim = 28 * 28 #784\n",
        "x_train = x_train.reshape(60000, input_dim)\n",
        "x_test = x_test.reshape(10000, input_dim)\n",
        "print('input shape: ', x_train.shape[1])\n",
        "\n",
        "# Нормалізація даних\n",
        "x_train = x_train.astype('float32') / 255\n",
        "x_test = x_test.astype('float32') / 255\n",
        "\n",
        "# Конвертація класів у бінарні матриці\n",
        "num_classes = 10\n",
        "y_train = keras.utils.to_categorical(y_train, num_classes)\n",
        "y_test = keras.utils.to_categorical(y_test, num_classes)\n",
        "\n",
        "# Модель з модифікованою архітектурою\n",
        "model = keras.Sequential()\n",
        "model.add(layers.Dense(512, activation='relu', input_shape=(input_dim,)))\n",
        "model.add(layers.Dense(256, activation='relu'))\n",
        "model.add(layers.Dense(128, activation='relu'))\n",
        "model.add(layers.Dense(10, activation='softmax'))\n",
        "\n",
        "model.summary()\n",
        "\n",
        "# Компіляція моделі\n",
        "model.compile(loss='categorical_crossentropy',\n",
        "              optimizer='adam',\n",
        "              metrics=['accuracy'])\n",
        "\n",
        "# Навчання моделі\n",
        "history = model.fit(x_train,\n",
        "                    y_train,\n",
        "                    epochs=10,\n",
        "                    batch_size=64,\n",
        "                    validation_split=0.2,\n",
        "                    verbose=2)\n",
        "\n",
        "# Порівняння результатів\n",
        "plt.figure(figsize=(12, 5))\n",
        "\n",
        "# Візуалізація графіків втрат на навчальному та валідаційному наборах\n",
        "plt.subplot(1, 2, 1)\n",
        "plt.plot(history.history['loss'], label='Training loss')\n",
        "plt.plot(history.history['val_loss'], label='Validation loss')\n",
        "plt.title('Training and validation loss')\n",
        "plt.xlabel('Epochs')\n",
        "plt.ylabel('Loss')\n",
        "plt.legend()\n",
        "\n",
        "# Візуалізація графіків точності на навчальному та валідаційному наборах\n",
        "plt.subplot(1, 2, 2)\n",
        "plt.plot(history.history['accuracy'], label='Training accuracy')\n",
        "plt.plot(history.history['val_accuracy'], label='Validation accuracy')\n",
        "plt.title('Training and validation accuracy')\n",
        "plt.xlabel('Epochs')\n",
        "plt.ylabel('Accuracy')\n",
        "plt.legend()\n",
        "\n",
        "plt.show()\n",
        "\n",
        "\n",
        "\n",
        "\n",
        "# Виведення результатів точності та втрат\n",
        "print(\"Training accuracy:\", history.history['accuracy'][-1])\n",
        "print(\"Validation accuracy:\", history.history['val_accuracy'][-1])\n",
        "print(\"Training loss:\", history.history['loss'][-1])\n",
        "print(\"Validation loss:\", history.history['val_loss'][-1])"
      ],
      "metadata": {
        "colab": {
          "base_uri": "https://localhost:8080/",
          "height": 1000
        },
        "id": "HeMcCdAmk_xN",
        "outputId": "0cf212a7-57a3-406b-e946-f4d80a2a68f7"
      },
      "execution_count": null,
      "outputs": [
        {
          "output_type": "stream",
          "name": "stdout",
          "text": [
            "60000 train samples\n",
            "10000 test samples\n",
            "image shape (28, 28)\n",
            "label:  5\n"
          ]
        },
        {
          "output_type": "display_data",
          "data": {
            "text/plain": [
              "<Figure size 640x480 with 1 Axes>"
            ],
            "image/png": "[encoded data removed]"
          },
          "metadata": {}
        },
        {
          "output_type": "stream",
          "name": "stdout",
          "text": [
            "input shape:  784\n",
            "Model: \"sequential_43\"\n",
            "_________________________________________________________________\n",
            " Layer (type)                Output Shape              Param #   \n",
            "=================================================================\n",
            " dense_61 (Dense)            (None, 512)               401920    \n",
            "                                                                 \n",
            " dense_62 (Dense)            (None, 256)               131328    \n",
            "                                                                 \n",
            " dense_63 (Dense)            (None, 128)               32896     \n",
            "                                                                 \n",
            " dense_64 (Dense)            (None, 10)                1290      \n",
            "                                                                 \n",
            "=================================================================\n",
            "Total params: 567434 (2.16 MB)\n",
            "Trainable params: 567434 (2.16 MB)\n",
            "Non-trainable params: 0 (0.00 Byte)\n",
            "_________________________________________________________________\n",
            "Epoch 1/10\n",
            "750/750 - 10s - loss: 0.2274 - accuracy: 0.9317 - val_loss: 0.1284 - val_accuracy: 0.9611 - 10s/epoch - 13ms/step\n",
            "Epoch 2/10\n",
            "750/750 - 10s - loss: 0.0886 - accuracy: 0.9730 - val_loss: 0.0877 - val_accuracy: 0.9753 - 10s/epoch - 13ms/step\n",
            "Epoch 3/10\n",
            "750/750 - 10s - loss: 0.0593 - accuracy: 0.9815 - val_loss: 0.0864 - val_accuracy: 0.9749 - 10s/epoch - 13ms/step\n",
            "Epoch 4/10\n",
            "750/750 - 8s - loss: 0.0452 - accuracy: 0.9854 - val_loss: 0.0967 - val_accuracy: 0.9738 - 8s/epoch - 11ms/step\n",
            "Epoch 5/10\n",
            "750/750 - 9s - loss: 0.0343 - accuracy: 0.9890 - val_loss: 0.1016 - val_accuracy: 0.9723 - 9s/epoch - 12ms/step\n",
            "Epoch 6/10\n",
            "750/750 - 10s - loss: 0.0311 - accuracy: 0.9902 - val_loss: 0.0832 - val_accuracy: 0.9778 - 10s/epoch - 13ms/step\n",
            "Epoch 7/10\n",
            "750/750 - 9s - loss: 0.0225 - accuracy: 0.9926 - val_loss: 0.1069 - val_accuracy: 0.9744 - 9s/epoch - 12ms/step\n",
            "Epoch 8/10\n",
            "750/750 - 8s - loss: 0.0243 - accuracy: 0.9919 - val_loss: 0.0995 - val_accuracy: 0.9772 - 8s/epoch - 11ms/step\n",
            "Epoch 9/10\n",
            "750/750 - 9s - loss: 0.0214 - accuracy: 0.9927 - val_loss: 0.1102 - val_accuracy: 0.9743 - 9s/epoch - 13ms/step\n",
            "Epoch 10/10\n",
            "750/750 - 9s - loss: 0.0178 - accuracy: 0.9942 - val_loss: 0.1209 - val_accuracy: 0.9718 - 9s/epoch - 12ms/step\n"
          ]
        },
        {
          "output_type": "display_data",
          "data": {
            "text/plain": [
              "<Figure size 1200x500 with 2 Axes>"
            ],
            "image/png": "[encoded data removed]"
          },
          "metadata": {}
        },
        {
          "output_type": "stream",
          "name": "stdout",
          "text": [
            "Training accuracy: 0.9942499995231628\n",
            "Validation accuracy: 0.971833348274231\n",
            "Training loss: 0.017761584371328354\n",
            "Validation loss: 0.12090577185153961\n"
          ]
        }
      ]
    },
    {
      "cell_type": "code",
      "source": [
        "# Модель зі зміненими параметрами Dropout\n",
        "model = keras.Sequential()\n",
        "model.add(layers.Dense(512, activation='relu', input_shape=(input_dim,)))\n",
        "model.add(layers.Dropout(0.7))\n",
        "model.add(layers.Dense(512, activation='relu'))\n",
        "model.add(layers.Dropout(0.7))\n",
        "model.add(layers.Dense(10, activation='softmax'))\n",
        "\n",
        "model.summary()\n",
        "# Компіляція моделі\n",
        "model.compile(loss='categorical_crossentropy',\n",
        "              optimizer='adam',\n",
        "              metrics=['accuracy'])\n",
        "\n",
        "# Навчання моделі\n",
        "history = model.fit(x_train,\n",
        "                    y_train,\n",
        "                    epochs=10,\n",
        "                    batch_size=64,\n",
        "                    validation_split=0.2,\n",
        "                    verbose=2)\n"
      ],
      "metadata": {
        "colab": {
          "base_uri": "https://localhost:8080/"
        },
        "id": "GiZdaehzqiKQ",
        "outputId": "f6c969bb-f6c1-4c7d-eedb-7c44c02249e1"
      },
      "execution_count": null,
      "outputs": [
        {
          "output_type": "stream",
          "name": "stdout",
          "text": [
            "Model: \"sequential_46\"\n",
            "_________________________________________________________________\n",
            " Layer (type)                Output Shape              Param #   \n",
            "=================================================================\n",
            " dense_71 (Dense)            (None, 512)               401920    \n",
            "                                                                 \n",
            " dropout_4 (Dropout)         (None, 512)               0         \n",
            "                                                                 \n",
            " dense_72 (Dense)            (None, 512)               262656    \n",
            "                                                                 \n",
            " dropout_5 (Dropout)         (None, 512)               0         \n",
            "                                                                 \n",
            " dense_73 (Dense)            (None, 10)                5130      \n",
            "                                                                 \n",
            "=================================================================\n",
            "Total params: 669706 (2.55 MB)\n",
            "Trainable params: 669706 (2.55 MB)\n",
            "Non-trainable params: 0 (0.00 Byte)\n",
            "_________________________________________________________________\n",
            "Epoch 1/10\n",
            "750/750 - 12s - loss: 0.5486 - accuracy: 0.8272 - val_loss: 0.1816 - val_accuracy: 0.9452 - 12s/epoch - 16ms/step\n",
            "Epoch 2/10\n",
            "750/750 - 13s - loss: 0.2900 - accuracy: 0.9147 - val_loss: 0.1378 - val_accuracy: 0.9592 - 13s/epoch - 17ms/step\n",
            "Epoch 3/10\n",
            "750/750 - 10s - loss: 0.2449 - accuracy: 0.9272 - val_loss: 0.1172 - val_accuracy: 0.9668 - 10s/epoch - 14ms/step\n",
            "Epoch 4/10\n",
            "750/750 - 11s - loss: 0.2187 - accuracy: 0.9344 - val_loss: 0.1127 - val_accuracy: 0.9668 - 11s/epoch - 15ms/step\n",
            "Epoch 5/10\n",
            "750/750 - 10s - loss: 0.2018 - accuracy: 0.9407 - val_loss: 0.1062 - val_accuracy: 0.9695 - 10s/epoch - 14ms/step\n",
            "Epoch 6/10\n",
            "750/750 - 10s - loss: 0.1875 - accuracy: 0.9439 - val_loss: 0.1016 - val_accuracy: 0.9699 - 10s/epoch - 13ms/step\n",
            "Epoch 7/10\n",
            "750/750 - 11s - loss: 0.1812 - accuracy: 0.9470 - val_loss: 0.1001 - val_accuracy: 0.9711 - 11s/epoch - 14ms/step\n",
            "Epoch 8/10\n",
            "750/750 - 11s - loss: 0.1713 - accuracy: 0.9491 - val_loss: 0.0963 - val_accuracy: 0.9728 - 11s/epoch - 15ms/step\n",
            "Epoch 9/10\n",
            "Epoch 10/10\n",
            "750/750 - 11s - loss: 0.1610 - accuracy: 0.9526 - val_loss: 0.0918 - val_accuracy: 0.9739 - 11s/epoch - 14ms/step\n"
          ]
        }
      ]
    },
    {
      "cell_type": "markdown",
      "source": [
        "Лабораторна робота_10_4_(Keras_IMDB)"
      ],
      "metadata": {
        "id": "EfWtqNYU3aTZ"
      }
    },
    {
      "cell_type": "code",
      "source": [
        "import tensorflow as tf\n",
        "from tensorflow import keras\n",
        "from tensorflow.keras import layers\n",
        "from tensorflow.keras.datasets import imdb\n",
        "\n",
        "import matplotlib.pyplot as plt\n"
      ],
      "metadata": {
        "id": "FUXtwGjA3hd5"
      },
      "execution_count": 71,
      "outputs": []
    },
    {
      "cell_type": "code",
      "source": [
        "(train_data, train_labels), (test_data, test_labels) = imdb.load_data(num_words=10000)\n"
      ],
      "metadata": {
        "colab": {
          "base_uri": "https://localhost:8080/"
        },
        "id": "gCuN9ATY7SuS",
        "outputId": "a28a6f06-bbc5-4fda-ca57-0356b2393019"
      },
      "execution_count": 72,
      "outputs": [
        {
          "output_type": "stream",
          "name": "stdout",
          "text": [
            "Downloading data from https://storage.googleapis.com/tensorflow/tf-keras-datasets/imdb.npz\n",
            "17464789/17464789 [==============================] - 0s 0us/step\n"
          ]
        }
      ]
    },
    {
      "cell_type": "code",
      "source": [
        "word_index = imdb.get_word_index()\n",
        "reverse_word_index = dict([(value, key) for (key, value) in word_index.items()])\n",
        "decoded_review = \" \".join([reverse_word_index.get(i - 3, \"?\") for i in train_data[0]])\n"
      ],
      "metadata": {
        "colab": {
          "base_uri": "https://localhost:8080/"
        },
        "id": "CIDLNKfD7d0B",
        "outputId": "83b351bf-5e35-4a6c-aff9-3184f0d1a344"
      },
      "execution_count": 73,
      "outputs": [
        {
          "output_type": "stream",
          "name": "stdout",
          "text": [
            "Downloading data from https://storage.googleapis.com/tensorflow/tf-keras-datasets/imdb_word_index.json\n",
            "1641221/1641221 [==============================] - 0s 0us/step\n"
          ]
        }
      ]
    },
    {
      "cell_type": "code",
      "source": [
        "decoded_review"
      ],
      "metadata": {
        "colab": {
          "base_uri": "https://localhost:8080/",
          "height": 71
        },
        "id": "fUqZD8bT7xTs",
        "outputId": "1b2ebea4-b36d-446b-9c8c-dd57e5c285fd"
      },
      "execution_count": 78,
      "outputs": [
        {
          "output_type": "execute_result",
          "data": {
            "text/plain": [
              "\"? this film was just brilliant casting location scenery story direction everyone's really suited the part they played and you could just imagine being there robert ? is an amazing actor and now the same being director ? father came from the same scottish island as myself so i loved the fact there was a real connection with this film the witty remarks throughout the film were great it was just brilliant so much that i bought the film as soon as it was released for ? and would recommend it to everyone to watch and the fly fishing was amazing really cried at the end it was so sad and you know what they say if you cry at a film it must have been good and this definitely was also ? to the two little boy's that played the ? of norman and paul they were just brilliant children are often left out of the ? list i think because the stars that play them all grown up are such a big profile for the whole film but these children are amazing and should be praised for what they have done don't you think the whole story was so lovely because it was true and was someone's life after all that was shared with us all\""
            ],
            "application/vnd.google.colaboratory.intrinsic+json": {
              "type": "string"
            }
          },
          "metadata": {},
          "execution_count": 78
        }
      ]
    },
    {
      "cell_type": "markdown",
      "source": [
        "Model"
      ],
      "metadata": {
        "id": "_R2toSr1M9Eb"
      }
    },
    {
      "cell_type": "code",
      "source": [
        "import numpy as np\n",
        "def vectorize_sequences(sequences, dimension=10000):\n",
        "    results = np.zeros((len(sequences), dimension))\n",
        "    for i, sequence in enumerate(sequences):\n",
        "        for j in sequence:\n",
        "            results[i, j] = 1.\n",
        "    return results\n",
        "x_train = vectorize_sequences(train_data)\n",
        "x_test = vectorize_sequences(test_data)"
      ],
      "metadata": {
        "id": "Qzrp4fFoM8V-"
      },
      "execution_count": 79,
      "outputs": []
    },
    {
      "cell_type": "code",
      "source": [
        "x_train = vectorize_sequences(train_data)\n",
        "x_test = vectorize_sequences(test_data)\n",
        "y_train = np.asarray(train_labels).astype(\"float32\")\n",
        "y_test = np.asarray(test_labels).astype(\"float32\")"
      ],
      "metadata": {
        "id": "d1kaVrA_OV0X"
      },
      "execution_count": 80,
      "outputs": []
    },
    {
      "cell_type": "code",
      "source": [
        "from tensorflow import keras\n",
        "from tensorflow.keras import layers\n",
        "\n",
        "model = keras.Sequential([\n",
        "    layers.Dense(32, activation=\"relu\"),\n",
        "    layers.Dense(1, activation=\"sigmoid\")\n",
        "])\n",
        "\n",
        "model.compile(optimizer=\"rmsprop\",\n",
        "              loss=\"binary_crossentropy\",\n",
        "              metrics=[\"accuracy\"])\n",
        "\n",
        "history = model.fit(x_train,\n",
        "                    y_train,\n",
        "                    epochs=10,\n",
        "                    batch_size=512,\n",
        "                    validation_split=0.2,\n",
        "                    shuffle = True,\n",
        "                    verbose = 2)"
      ],
      "metadata": {
        "colab": {
          "base_uri": "https://localhost:8080/"
        },
        "id": "eI49MCBRO4yg",
        "outputId": "be54e3db-fb81-4808-ed89-06f0104891e7"
      },
      "execution_count": 81,
      "outputs": [
        {
          "output_type": "stream",
          "name": "stdout",
          "text": [
            "Epoch 1/10\n",
            "40/40 - 4s - loss: 0.4712 - accuracy: 0.8041 - val_loss: 0.3504 - val_accuracy: 0.8812 - 4s/epoch - 101ms/step\n",
            "Epoch 2/10\n",
            "40/40 - 3s - loss: 0.2963 - accuracy: 0.8976 - val_loss: 0.3002 - val_accuracy: 0.8858 - 3s/epoch - 72ms/step\n",
            "Epoch 3/10\n",
            "40/40 - 2s - loss: 0.2385 - accuracy: 0.9162 - val_loss: 0.2747 - val_accuracy: 0.8930 - 2s/epoch - 60ms/step\n",
            "Epoch 4/10\n",
            "40/40 - 2s - loss: 0.2041 - accuracy: 0.9297 - val_loss: 0.3057 - val_accuracy: 0.8768 - 2s/epoch - 60ms/step\n",
            "Epoch 5/10\n",
            "40/40 - 1s - loss: 0.1836 - accuracy: 0.9356 - val_loss: 0.3351 - val_accuracy: 0.8660 - 1s/epoch - 37ms/step\n",
            "Epoch 6/10\n",
            "40/40 - 1s - loss: 0.1655 - accuracy: 0.9447 - val_loss: 0.2916 - val_accuracy: 0.8856 - 1s/epoch - 36ms/step\n",
            "Epoch 7/10\n",
            "40/40 - 1s - loss: 0.1521 - accuracy: 0.9484 - val_loss: 0.2797 - val_accuracy: 0.8898 - 1s/epoch - 35ms/step\n",
            "Epoch 8/10\n",
            "40/40 - 1s - loss: 0.1392 - accuracy: 0.9522 - val_loss: 0.2991 - val_accuracy: 0.8856 - 1s/epoch - 36ms/step\n",
            "Epoch 9/10\n",
            "40/40 - 2s - loss: 0.1288 - accuracy: 0.9573 - val_loss: 0.3027 - val_accuracy: 0.8874 - 2s/epoch - 38ms/step\n",
            "Epoch 10/10\n",
            "40/40 - 1s - loss: 0.1196 - accuracy: 0.9607 - val_loss: 0.3313 - val_accuracy: 0.8812 - 1s/epoch - 34ms/step\n"
          ]
        }
      ]
    },
    {
      "cell_type": "code",
      "source": [
        "history_dict = history.history\n",
        "history_dict.keys()\n",
        "history_dict = history.history\n",
        "loss_values = history_dict[\"loss\"]\n",
        "val_loss_values = history_dict[\"val_loss\"]\n",
        "epochs = range(1, len(loss_values) + 1)\n",
        "plt.plot(epochs, loss_values, \"bo\", label=\"Training loss\")\n",
        "plt.plot(epochs, val_loss_values, \"b\", label=\"Validation loss\")\n",
        "plt.title(\"Training and validation loss\")\n",
        "plt.xlabel(\"Epochs\")\n",
        "plt.ylabel(\"Loss\")\n",
        "plt.legend()\n",
        "plt.show()"
      ],
      "metadata": {
        "colab": {
          "base_uri": "https://localhost:8080/",
          "height": 472
        },
        "id": "QfbF5BDeTyl0",
        "outputId": "bd5f456e-cec1-4c91-919f-bdd965674433"
      },
      "execution_count": 84,
      "outputs": [
        {
          "output_type": "display_data",
          "data": {
            "text/plain": [
              "<Figure size 640x480 with 1 Axes>"
            ],
            "image/png": "[encoded data removed]"
          },
          "metadata": {}
        }
      ]
    },
    {
      "cell_type": "code",
      "source": [
        "score = model.evaluate(x_test, y_test, verbose=0)\n",
        "print('Test score:', score[0])\n",
        "print('Test accuracy:', score[1])"
      ],
      "metadata": {
        "colab": {
          "base_uri": "https://localhost:8080/"
        },
        "id": "xoU-5VLNUV04",
        "outputId": "79ead616-964c-480a-d511-88e9ba35f9e6"
      },
      "execution_count": 85,
      "outputs": [
        {
          "output_type": "stream",
          "name": "stdout",
          "text": [
            "Test score: 0.34439051151275635\n",
            "Test accuracy: 0.8703200221061707\n"
          ]
        }
      ]
    },
    {
      "cell_type": "markdown",
      "source": [
        "Лабораторна робота_10_5_(Keras_Autoencoder_MNIST)"
      ],
      "metadata": {
        "id": "59MgO1noXxRq"
      }
    },
    {
      "cell_type": "code",
      "source": [
        "import numpy as np\n",
        "import tensorflow as tf\n",
        "from tensorflow.keras.datasets import mnist\n",
        "from tensorflow.keras.models import Model\n",
        "from tensorflow.keras.layers import Input, Dense\n",
        "\n",
        "# Завантаження та підготовка даних\n",
        "(x_train, _), (x_test, _) = mnist.load_data()\n",
        "\n",
        "# Нормалізація значень пікселів у діапазоні [0, 1]\n",
        "x_train = x_train.astype('float32') / 255.\n",
        "x_test = x_test.astype('float32') / 255.\n",
        "x_train = np.reshape(x_train, (len(x_train), 784))\n",
        "x_test = np.reshape(x_test, (len(x_test), 784))\n",
        "\n",
        "# Створення архітектури автоенкодера\n",
        "input_img = Input(shape=(784,))\n",
        "encoded = Dense(128, activation='relu')(input_img)\n",
        "encoded = Dense(64, activation='relu')(encoded)\n",
        "encoded = Dense(32, activation='relu')(encoded)\n",
        "\n",
        "decoded = Dense(64, activation='relu')(encoded)\n",
        "decoded = Dense(128, activation='relu')(decoded)\n",
        "decoded = Dense(784, activation='sigmoid')(decoded)\n",
        "\n",
        "# Створення моделі автоенкодера\n",
        "autoencoder = Model(input_img, decoded)\n",
        "\n",
        "# Компіляція моделі\n",
        "autoencoder.compile(optimizer='adam', loss='binary_crossentropy')\n",
        "\n",
        "# Навчання автоенкодера\n",
        "autoencoder.fit(x_train, x_train,\n",
        "                epochs=50,\n",
        "                batch_size=256,\n",
        "                shuffle=True,\n",
        "                validation_data=(x_test, x_test))\n",
        "\n",
        "# Оцінка якості реконструкції на тестовому наборі даних\n",
        "decoded_imgs = autoencoder.predict(x_test)\n",
        "\n",
        "# Візуалізація оригінальних та відтворених зображень\n",
        "import matplotlib.pyplot as plt\n",
        "\n",
        "n = 10  # Кількість зображень для відображення\n",
        "plt.figure(figsize=(20, 4))\n",
        "for i in range(n):\n",
        "    # Візуалізація оригінальних зображень\n",
        "    ax = plt.subplot(2, n, i + 1)\n",
        "    plt.imshow(x_test[i].reshape(28, 28))\n",
        "    plt.gray()\n",
        "    ax.get_xaxis().set_visible(False)\n",
        "    ax.get_yaxis().set_visible(False)\n",
        "\n",
        "    # Візуалізація відтворених зображень\n",
        "    ax = plt.subplot(2, n, i + 1 + n)\n",
        "    plt.imshow(decoded_imgs[i].reshape(28, 28))\n",
        "    plt.gray()\n",
        "    ax.get_xaxis().set_visible(False)\n",
        "    ax.get_yaxis().set_visible(False)\n",
        "plt.show()\n"
      ],
      "metadata": {
        "colab": {
          "base_uri": "https://localhost:8080/",
          "height": 1000
        },
        "id": "6T8UC7_pV4mS",
        "outputId": "1598f495-f5b1-44c0-9ae8-04db86451b3b"
      },
      "execution_count": 86,
      "outputs": [
        {
          "output_type": "stream",
          "name": "stdout",
          "text": [
            "Epoch 1/50\n",
            "235/235 [==============================] - 7s 22ms/step - loss: 0.2512 - val_loss: 0.1723\n",
            "Epoch 2/50\n",
            "235/235 [==============================] - 4s 17ms/step - loss: 0.1562 - val_loss: 0.1418\n",
            "Epoch 3/50\n",
            "235/235 [==============================] - 4s 17ms/step - loss: 0.1361 - val_loss: 0.1282\n",
            "Epoch 4/50\n",
            "235/235 [==============================] - 5s 21ms/step - loss: 0.1246 - val_loss: 0.1187\n",
            "Epoch 5/50\n",
            "235/235 [==============================] - 4s 17ms/step - loss: 0.1178 - val_loss: 0.1141\n",
            "Epoch 6/50\n",
            "235/235 [==============================] - 4s 17ms/step - loss: 0.1136 - val_loss: 0.1104\n",
            "Epoch 7/50\n",
            "235/235 [==============================] - 5s 22ms/step - loss: 0.1104 - val_loss: 0.1077\n",
            "Epoch 8/50\n",
            "235/235 [==============================] - 4s 17ms/step - loss: 0.1080 - val_loss: 0.1062\n",
            "Epoch 9/50\n",
            "235/235 [==============================] - 4s 17ms/step - loss: 0.1061 - val_loss: 0.1042\n",
            "Epoch 10/50\n",
            "235/235 [==============================] - 5s 22ms/step - loss: 0.1045 - val_loss: 0.1030\n",
            "Epoch 11/50\n",
            "235/235 [==============================] - 4s 17ms/step - loss: 0.1031 - val_loss: 0.1013\n",
            "Epoch 12/50\n",
            "235/235 [==============================] - 4s 17ms/step - loss: 0.1018 - val_loss: 0.1002\n",
            "Epoch 13/50\n",
            "235/235 [==============================] - 5s 22ms/step - loss: 0.1007 - val_loss: 0.0991\n",
            "Epoch 14/50\n",
            "235/235 [==============================] - 4s 17ms/step - loss: 0.0996 - val_loss: 0.0981\n",
            "Epoch 15/50\n",
            "235/235 [==============================] - 4s 17ms/step - loss: 0.0988 - val_loss: 0.0972\n",
            "Epoch 16/50\n",
            "235/235 [==============================] - 5s 22ms/step - loss: 0.0979 - val_loss: 0.0966\n",
            "Epoch 17/50\n",
            "235/235 [==============================] - 4s 17ms/step - loss: 0.0972 - val_loss: 0.0959\n",
            "Epoch 18/50\n",
            "235/235 [==============================] - 4s 17ms/step - loss: 0.0965 - val_loss: 0.0953\n",
            "Epoch 19/50\n",
            "235/235 [==============================] - 5s 22ms/step - loss: 0.0959 - val_loss: 0.0947\n",
            "Epoch 20/50\n",
            "235/235 [==============================] - 4s 17ms/step - loss: 0.0954 - val_loss: 0.0944\n",
            "Epoch 21/50\n",
            "235/235 [==============================] - 4s 17ms/step - loss: 0.0948 - val_loss: 0.0937\n",
            "Epoch 22/50\n",
            "235/235 [==============================] - 5s 22ms/step - loss: 0.0944 - val_loss: 0.0932\n",
            "Epoch 23/50\n",
            "235/235 [==============================] - 4s 17ms/step - loss: 0.0939 - val_loss: 0.0931\n",
            "Epoch 24/50\n",
            "235/235 [==============================] - 4s 17ms/step - loss: 0.0934 - val_loss: 0.0924\n",
            "Epoch 25/50\n",
            "235/235 [==============================] - 5s 21ms/step - loss: 0.0928 - val_loss: 0.0918\n",
            "Epoch 26/50\n",
            "235/235 [==============================] - 4s 17ms/step - loss: 0.0920 - val_loss: 0.0910\n",
            "Epoch 27/50\n",
            "235/235 [==============================] - 4s 17ms/step - loss: 0.0913 - val_loss: 0.0903\n",
            "Epoch 28/50\n",
            "235/235 [==============================] - 5s 22ms/step - loss: 0.0908 - val_loss: 0.0901\n",
            "Epoch 29/50\n",
            "235/235 [==============================] - 4s 17ms/step - loss: 0.0903 - val_loss: 0.0895\n",
            "Epoch 30/50\n",
            "235/235 [==============================] - 4s 17ms/step - loss: 0.0900 - val_loss: 0.0893\n",
            "Epoch 31/50\n",
            "235/235 [==============================] - 5s 22ms/step - loss: 0.0896 - val_loss: 0.0889\n",
            "Epoch 32/50\n",
            "235/235 [==============================] - 4s 17ms/step - loss: 0.0894 - val_loss: 0.0888\n",
            "Epoch 33/50\n",
            "235/235 [==============================] - 4s 17ms/step - loss: 0.0891 - val_loss: 0.0884\n",
            "Epoch 34/50\n",
            "235/235 [==============================] - 5s 21ms/step - loss: 0.0889 - val_loss: 0.0880\n",
            "Epoch 35/50\n",
            "235/235 [==============================] - 4s 17ms/step - loss: 0.0886 - val_loss: 0.0882\n",
            "Epoch 36/50\n",
            "235/235 [==============================] - 4s 17ms/step - loss: 0.0884 - val_loss: 0.0879\n",
            "Epoch 37/50\n",
            "235/235 [==============================] - 5s 22ms/step - loss: 0.0883 - val_loss: 0.0876\n",
            "Epoch 38/50\n",
            "235/235 [==============================] - 4s 17ms/step - loss: 0.0880 - val_loss: 0.0875\n",
            "Epoch 39/50\n",
            "235/235 [==============================] - 4s 17ms/step - loss: 0.0879 - val_loss: 0.0872\n",
            "Epoch 40/50\n",
            "235/235 [==============================] - 5s 22ms/step - loss: 0.0877 - val_loss: 0.0871\n",
            "Epoch 41/50\n",
            "235/235 [==============================] - 4s 17ms/step - loss: 0.0875 - val_loss: 0.0869\n",
            "Epoch 42/50\n",
            "235/235 [==============================] - 4s 17ms/step - loss: 0.0874 - val_loss: 0.0870\n",
            "Epoch 43/50\n",
            "235/235 [==============================] - 5s 22ms/step - loss: 0.0873 - val_loss: 0.0866\n",
            "Epoch 44/50\n",
            "235/235 [==============================] - 4s 17ms/step - loss: 0.0871 - val_loss: 0.0867\n",
            "Epoch 45/50\n",
            "235/235 [==============================] - 4s 17ms/step - loss: 0.0870 - val_loss: 0.0865\n",
            "Epoch 46/50\n",
            "235/235 [==============================] - 5s 22ms/step - loss: 0.0870 - val_loss: 0.0863\n",
            "Epoch 47/50\n",
            "235/235 [==============================] - 4s 17ms/step - loss: 0.0868 - val_loss: 0.0862\n",
            "Epoch 48/50\n",
            "235/235 [==============================] - 4s 17ms/step - loss: 0.0867 - val_loss: 0.0862\n",
            "Epoch 49/50\n",
            "235/235 [==============================] - 5s 21ms/step - loss: 0.0866 - val_loss: 0.0862\n",
            "Epoch 50/50\n",
            "235/235 [==============================] - 4s 17ms/step - loss: 0.0865 - val_loss: 0.0860\n",
            "313/313 [==============================] - 1s 2ms/step\n"
          ]
        },
        {
          "output_type": "display_data",
          "data": {
            "text/plain": [
              "<Figure size 2000x400 with 20 Axes>"
            ],
            "image/png": "[encoded data removed]"
          },
          "metadata": {}
        }
      ]
    }
  ]
}