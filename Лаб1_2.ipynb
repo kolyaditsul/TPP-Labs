{
  "nbformat": 4,
  "nbformat_minor": 0,
  "metadata": {
    "colab": {
      "provenance": []
    },
    "kernelspec": {
      "name": "python3",
      "display_name": "Python 3"
    },
    "language_info": {
      "name": "python"
    }
  },
  "cells": [
    {
      "cell_type": "code",
      "execution_count": 1,
      "metadata": {
        "id": "sWzwBfZ9HrRr",
        "outputId": "efca9d98-aafa-4e3e-c252-cf863b6d0946",
        "colab": {
          "base_uri": "https://localhost:8080/"
        }
      },
      "outputs": [
        {
          "output_type": "stream",
          "name": "stdout",
          "text": [
            "1. Развернутый массив: [12  6 13  9  7  3]\n",
            "2. Максимальный нечетный элемент: 13\n",
            "3. Массив с замененными нечетными элементами: [777 777 777 777   6  12]\n",
            "4. Массив первых n нечетных чисел в порядке убывания: [13 11  9  7  5  3  1]\n",
            "5. Самое близкое и самое дальнее числа: 9 3\n",
            "6. Первообразная полинома: [0.5        1.66666667 0.5        3.         0.        ]\n",
            "7. Первая производная в точке 1.5: 29.5\n"
          ]
        }
      ],
      "source": [
        "import numpy as np\n",
        "\n",
        "# 1. Развернуть массив\n",
        "def reverse_array(arr):\n",
        "    return np.flip(arr)\n",
        "\n",
        "# 2. Найти максимальный нечетный элемент\n",
        "def max_odd_element(arr):\n",
        "    return np.max(arr[arr % 2 != 0])\n",
        "\n",
        "# 3. Заменить все нечетные элементы на любимое число\n",
        "def replace_odd_elements(arr, favorite_number):\n",
        "    arr[arr % 2 != 0] = favorite_number\n",
        "    return arr\n",
        "\n",
        "# 4. Создать массив первых n нечетных чисел в порядке убывания\n",
        "def first_n_odd_descending(n):\n",
        "    return np.arange(2 * n - 1, 0, -2)\n",
        "\n",
        "# 5. Найти самое близкое и самое дальнее числа к данному\n",
        "def closest_and_farthest(arr, given_number):\n",
        "    closest_number = arr[np.abs(arr - given_number).argmin()]\n",
        "    farthest_number = arr[np.abs(arr - given_number).argmax()]\n",
        "    return closest_number, farthest_number\n",
        "\n",
        "# 6. Вычислить первообразную полинома\n",
        "def polynomial_antiderivative(coefficients):\n",
        "    return np.polyint(coefficients)\n",
        "\n",
        "# 7. Посчитать первую производную для заданного полинома в заданной точке\n",
        "def polynomial_derivative_at_point(coefficients, point):\n",
        "    derivative_at_point = np.polyder(coefficients)\n",
        "    derivative_value = np.polyval(derivative_at_point, point)\n",
        "    return derivative_value\n",
        "\n",
        "# Пример использования\n",
        "arr = np.array([3, 7, 9, 13, 6, 12])\n",
        "favorite_number = 777\n",
        "given_number = 8.5\n",
        "n = 7\n",
        "point = 1.5\n",
        "coefficients = np.array([2, 5, 1, 3])\n",
        "\n",
        "reversed_arr = reverse_array(arr)\n",
        "print(\"1. Развернутый массив:\", reversed_arr)\n",
        "\n",
        "max_odd = max_odd_element(arr)\n",
        "print(\"2. Максимальный нечетный элемент:\", max_odd)\n",
        "\n",
        "arr_replaced = replace_odd_elements(arr.copy(), favorite_number)\n",
        "print(\"3. Массив с замененными нечетными элементами:\", arr_replaced)\n",
        "\n",
        "odd_descending = first_n_odd_descending(n)\n",
        "print(\"4. Массив первых n нечетных чисел в порядке убывания:\", odd_descending)\n",
        "\n",
        "closest, farthest = closest_and_farthest(arr, given_number)\n",
        "print(\"5. Самое близкое и самое дальнее числа:\", closest, farthest)\n",
        "\n",
        "integral_coefficients = polynomial_antiderivative(coefficients)\n",
        "print(\"6. Первообразная полинома:\", integral_coefficients)\n",
        "\n",
        "derivative_value = polynomial_derivative_at_point(coefficients, point)\n",
        "print(f\"7. Первая производная в точке {point}:\", derivative_value)\n"
      ]
    }
  ]
}